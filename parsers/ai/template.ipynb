{
 "cells": [
  {
   "cell_type": "code",
   "execution_count": 6,
   "metadata": {},
   "outputs": [],
   "source": [
    "from yaml import load, Loader\n",
    "\n",
    "with open(\"config.yaml\", \"r\") as f:\n",
    "    config = load(f, Loader=Loader)"
   ]
  },
  {
   "cell_type": "code",
   "execution_count": 9,
   "metadata": {},
   "outputs": [],
   "source": [
    "from pydantic import PostgresDsn\n",
    "\n",
    "sqlalchemy_url = str(\n",
    "    PostgresDsn.build(\n",
    "        scheme=\"postgresql+asyncpg\",\n",
    "        username=config[\"POSTGRES\"][\"USER\"],\n",
    "        password=config[\"POSTGRES\"][\"PASSWORD\"],\n",
    "        host=config[\"POSTGRES\"][\"HOST\"],\n",
    "        port=config[\"POSTGRES\"][\"PORT\"],\n",
    "        path=config[\"POSTGRES\"][\"DB\"],\n",
    "    )\n",
    ")\n"
   ]
  },
  {
   "cell_type": "code",
   "execution_count": null,
   "metadata": {},
   "outputs": [],
   "source": [
    "from sqlmodel.ext.asyncio.session import AsyncSession\n",
    "from sqlalchemy.ext.asyncio import create_async_engine, async_sessionmaker\n",
    "\n",
    "\n",
    "engine = create_async_engine(sqlalchemy_url)\n",
    "session_maker = async_sessionmaker(engine, expire_on_commit=False, class_=AsyncSession)"
   ]
  },
  {
   "cell_type": "markdown",
   "metadata": {},
   "source": [
    "# Common Imports"
   ]
  },
  {
   "cell_type": "code",
   "execution_count": null,
   "metadata": {},
   "outputs": [],
   "source": [
    "import pandas as pd\n",
    "import numpy as np\n",
    "from langchain_core.prompts import ChatPromptTemplate, MessagesPlaceholder\n",
    "from pydantic import BaseModel, Field\n",
    "from langchain_ollama import ChatOllama\n",
    "from tqdm import tqdm"
   ]
  }
 ],
 "metadata": {
  "kernelspec": {
   "display_name": ".venv",
   "language": "python",
   "name": "python3"
  },
  "language_info": {
   "codemirror_mode": {
    "name": "ipython",
    "version": 3
   },
   "file_extension": ".py",
   "mimetype": "text/x-python",
   "name": "python",
   "nbconvert_exporter": "python",
   "pygments_lexer": "ipython3",
   "version": "3.12.3"
  }
 },
 "nbformat": 4,
 "nbformat_minor": 2
}
