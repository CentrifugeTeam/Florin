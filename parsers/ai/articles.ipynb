{
 "cells": [
  {
   "cell_type": "code",
   "execution_count": 2,
   "metadata": {},
   "outputs": [],
   "source": [
    "%run 'template.ipynb'"
   ]
  },
  {
   "cell_type": "code",
   "execution_count": 56,
   "metadata": {},
   "outputs": [],
   "source": [
    "# Define a custom prompt to provide instructions and any additional context.\n",
    "# 1) You can add examples into the prompt template to improve extraction quality\n",
    "# 2) Introduce additional parameters to take context into account (e.g., include metadata\n",
    "#    about the document from which the text was extracted.)\n",
    "prompt_template = ChatPromptTemplate.from_messages(\n",
    "    [\n",
    "        (\n",
    "            \"system\",\n",
    "            \"You are a writer of articles about home flower care.\"\n",
    "            \"Write this article in Russia language.\"\n",
    "            \"Add in header ## symbols and bold so **word** important words\"\n",
    "            \"Don't ask about answer.\"\n",
    "            \"No more then 200 words on article.\",\n",
    "        ),\n",
    "        # Please see the how-to about improving performance with\n",
    "        # reference examples.\n",
    "        # MessagesPlaceholder('examples'),\n",
    "        (\"human\", \"{text}\"),\n",
    "    ]\n",
    ")"
   ]
  },
  {
   "cell_type": "code",
   "execution_count": 4,
   "metadata": {},
   "outputs": [],
   "source": [
    "llm = ChatOllama(\n",
    "    model=\"qwen2.5\",\n",
    "    temperature=0.05,\n",
    ")"
   ]
  },
  {
   "cell_type": "code",
   "execution_count": 6,
   "metadata": {},
   "outputs": [],
   "source": [
    "from sqlmodel import SQLModel, Relationship, Field\n",
    "from sqlalchemy import Column, DateTime, text\n",
    "from datetime import datetime\n",
    "from uuid import UUID, uuid4\n",
    "\n",
    "\n",
    "class Article(SQLModel, table=True):\n",
    "    __tablename__ = \"articles\"\n",
    "    id: UUID = Field(primary_key=True, default_factory=uuid4)\n",
    "    text: str\n",
    "\n",
    "    created_at: datetime = Field(\n",
    "        sa_column=Column(\n",
    "            DateTime(timezone=True),\n",
    "            nullable=False,\n",
    "            server_default=text(\"CURRENT_TIMESTAMP\"),\n",
    "        )\n",
    "    )\n",
    "    updated_at: datetime = Field(\n",
    "        sa_column=Column(\n",
    "            DateTime(timezone=True),\n",
    "            nullable=False,\n",
    "            server_default=text(\"CURRENT_TIMESTAMP\"),\n",
    "            onupdate=text(\"CURRENT_TIMESTAMP\"),\n",
    "        )\n",
    "    )\n",
    "\n",
    "    plant_id: UUID = Field(foreign_key=\"plants.id\")"
   ]
  },
  {
   "cell_type": "code",
   "execution_count": 8,
   "metadata": {},
   "outputs": [],
   "source": [
    "from sqlmodel import SQLModel, Field\n",
    "from uuid import UUID, uuid4\n",
    "from datetime import date\n",
    "\n",
    "\n",
    "class Plant(SQLModel, table=True):\n",
    "    __tablename__ = \"plants\"\n",
    "    # __table_args__ = {\"extend_existing\": True}\n",
    "    id: UUID = Field(primary_key=True, default_factory=uuid4)\n",
    "    origin_name: str\n",
    "    name: str | None\n",
    "    bibliography: str\n",
    "    slug: str\n",
    "    year: date\n",
    "    image_url: str\n",
    "    family: str\n",
    "    genus: str\n",
    "    rank: str"
   ]
  },
  {
   "cell_type": "code",
   "execution_count": 45,
   "metadata": {},
   "outputs": [
    {
     "ename": "DBAPIError",
     "evalue": "(sqlalchemy.dialects.postgresql.asyncpg.Error) <class 'asyncpg.exceptions.ConnectionDoesNotExistError'>: connection was closed in the middle of operation\n[SQL: SELECT plants.id, plants.origin_name, plants.name, plants.bibliography, plants.slug, plants.year, plants.image_url, plants.family, plants.genus, plants.rank \nFROM plants \nWHERE plants.name IS NOT NULL \n LIMIT $1::INTEGER]\n[parameters: (10,)]\n(Background on this error at: https://sqlalche.me/e/20/dbapi)",
     "output_type": "error",
     "traceback": [
      "\u001b[31m---------------------------------------------------------------------------\u001b[39m",
      "\u001b[31mConnectionResetError\u001b[39m                      Traceback (most recent call last)",
      "\u001b[36mFile \u001b[39m\u001b[32m/usr/lib/python3.12/asyncio/selector_events.py:1013\u001b[39m, in \u001b[36m_SelectorSocketTransport._read_ready__data_received\u001b[39m\u001b[34m(self)\u001b[39m\n\u001b[32m   1012\u001b[39m \u001b[38;5;28;01mtry\u001b[39;00m:\n\u001b[32m-> \u001b[39m\u001b[32m1013\u001b[39m     data = \u001b[38;5;28;43mself\u001b[39;49m\u001b[43m.\u001b[49m\u001b[43m_sock\u001b[49m\u001b[43m.\u001b[49m\u001b[43mrecv\u001b[49m\u001b[43m(\u001b[49m\u001b[38;5;28;43mself\u001b[39;49m\u001b[43m.\u001b[49m\u001b[43mmax_size\u001b[49m\u001b[43m)\u001b[49m\n\u001b[32m   1014\u001b[39m \u001b[38;5;28;01mexcept\u001b[39;00m (\u001b[38;5;167;01mBlockingIOError\u001b[39;00m, \u001b[38;5;167;01mInterruptedError\u001b[39;00m):\n",
      "\u001b[31mConnectionResetError\u001b[39m: [Errno 104] Connection reset by peer",
      "\nThe above exception was the direct cause of the following exception:\n",
      "\u001b[31mConnectionDoesNotExistError\u001b[39m               Traceback (most recent call last)",
      "\u001b[36mFile \u001b[39m\u001b[32m~/workspace/pythonProjects/Florin/parsers/ai/.venv/lib/python3.12/site-packages/sqlalchemy/dialects/postgresql/asyncpg.py:843\u001b[39m, in \u001b[36mAsyncAdapt_asyncpg_connection._start_transaction\u001b[39m\u001b[34m(self)\u001b[39m\n\u001b[32m    838\u001b[39m     \u001b[38;5;28mself\u001b[39m._transaction = \u001b[38;5;28mself\u001b[39m._connection.transaction(\n\u001b[32m    839\u001b[39m         isolation=\u001b[38;5;28mself\u001b[39m.isolation_level,\n\u001b[32m    840\u001b[39m         readonly=\u001b[38;5;28mself\u001b[39m.readonly,\n\u001b[32m    841\u001b[39m         deferrable=\u001b[38;5;28mself\u001b[39m.deferrable,\n\u001b[32m    842\u001b[39m     )\n\u001b[32m--> \u001b[39m\u001b[32m843\u001b[39m     \u001b[38;5;28;01mawait\u001b[39;00m \u001b[38;5;28mself\u001b[39m._transaction.start()\n\u001b[32m    844\u001b[39m \u001b[38;5;28;01mexcept\u001b[39;00m \u001b[38;5;167;01mException\u001b[39;00m \u001b[38;5;28;01mas\u001b[39;00m error:\n",
      "\u001b[36mFile \u001b[39m\u001b[32m~/workspace/pythonProjects/Florin/parsers/ai/.venv/lib/python3.12/site-packages/asyncpg/transaction.py:146\u001b[39m, in \u001b[36mTransaction.start\u001b[39m\u001b[34m(self)\u001b[39m\n\u001b[32m    145\u001b[39m \u001b[38;5;28;01mtry\u001b[39;00m:\n\u001b[32m--> \u001b[39m\u001b[32m146\u001b[39m     \u001b[38;5;28;01mawait\u001b[39;00m \u001b[38;5;28mself\u001b[39m._connection.execute(query)\n\u001b[32m    147\u001b[39m \u001b[38;5;28;01mexcept\u001b[39;00m \u001b[38;5;167;01mBaseException\u001b[39;00m:\n",
      "\u001b[36mFile \u001b[39m\u001b[32m~/workspace/pythonProjects/Florin/parsers/ai/.venv/lib/python3.12/site-packages/asyncpg/connection.py:349\u001b[39m, in \u001b[36mConnection.execute\u001b[39m\u001b[34m(self, query, timeout, *args)\u001b[39m\n\u001b[32m    348\u001b[39m \u001b[38;5;28;01melse\u001b[39;00m:\n\u001b[32m--> \u001b[39m\u001b[32m349\u001b[39m     result = \u001b[38;5;28;01mawait\u001b[39;00m \u001b[38;5;28mself\u001b[39m._protocol.query(query, timeout)\n\u001b[32m    350\u001b[39m \u001b[38;5;28;01mreturn\u001b[39;00m result\n",
      "\u001b[36mFile \u001b[39m\u001b[32m~/workspace/pythonProjects/Florin/parsers/ai/.venv/lib/python3.12/site-packages/asyncpg/protocol/protocol.pyx:375\u001b[39m, in \u001b[36mquery\u001b[39m\u001b[34m()\u001b[39m\n",
      "\u001b[31mConnectionDoesNotExistError\u001b[39m: connection was closed in the middle of operation",
      "\nThe above exception was the direct cause of the following exception:\n",
      "\u001b[31mError\u001b[39m                                     Traceback (most recent call last)",
      "\u001b[36mFile \u001b[39m\u001b[32m~/workspace/pythonProjects/Florin/parsers/ai/.venv/lib/python3.12/site-packages/sqlalchemy/engine/base.py:1964\u001b[39m, in \u001b[36mConnection._exec_single_context\u001b[39m\u001b[34m(self, dialect, context, statement, parameters)\u001b[39m\n\u001b[32m   1963\u001b[39m     \u001b[38;5;28;01mif\u001b[39;00m \u001b[38;5;129;01mnot\u001b[39;00m evt_handled:\n\u001b[32m-> \u001b[39m\u001b[32m1964\u001b[39m         \u001b[38;5;28;43mself\u001b[39;49m\u001b[43m.\u001b[49m\u001b[43mdialect\u001b[49m\u001b[43m.\u001b[49m\u001b[43mdo_execute\u001b[49m\u001b[43m(\u001b[49m\n\u001b[32m   1965\u001b[39m \u001b[43m            \u001b[49m\u001b[43mcursor\u001b[49m\u001b[43m,\u001b[49m\u001b[43m \u001b[49m\u001b[43mstr_statement\u001b[49m\u001b[43m,\u001b[49m\u001b[43m \u001b[49m\u001b[43meffective_parameters\u001b[49m\u001b[43m,\u001b[49m\u001b[43m \u001b[49m\u001b[43mcontext\u001b[49m\n\u001b[32m   1966\u001b[39m \u001b[43m        \u001b[49m\u001b[43m)\u001b[49m\n\u001b[32m   1968\u001b[39m \u001b[38;5;28;01mif\u001b[39;00m \u001b[38;5;28mself\u001b[39m._has_events \u001b[38;5;129;01mor\u001b[39;00m \u001b[38;5;28mself\u001b[39m.engine._has_events:\n",
      "\u001b[36mFile \u001b[39m\u001b[32m~/workspace/pythonProjects/Florin/parsers/ai/.venv/lib/python3.12/site-packages/sqlalchemy/engine/default.py:942\u001b[39m, in \u001b[36mDefaultDialect.do_execute\u001b[39m\u001b[34m(self, cursor, statement, parameters, context)\u001b[39m\n\u001b[32m    941\u001b[39m \u001b[38;5;28;01mdef\u001b[39;00m\u001b[38;5;250m \u001b[39m\u001b[34mdo_execute\u001b[39m(\u001b[38;5;28mself\u001b[39m, cursor, statement, parameters, context=\u001b[38;5;28;01mNone\u001b[39;00m):\n\u001b[32m--> \u001b[39m\u001b[32m942\u001b[39m     \u001b[43mcursor\u001b[49m\u001b[43m.\u001b[49m\u001b[43mexecute\u001b[49m\u001b[43m(\u001b[49m\u001b[43mstatement\u001b[49m\u001b[43m,\u001b[49m\u001b[43m \u001b[49m\u001b[43mparameters\u001b[49m\u001b[43m)\u001b[49m\n",
      "\u001b[36mFile \u001b[39m\u001b[32m~/workspace/pythonProjects/Florin/parsers/ai/.venv/lib/python3.12/site-packages/sqlalchemy/dialects/postgresql/asyncpg.py:580\u001b[39m, in \u001b[36mAsyncAdapt_asyncpg_cursor.execute\u001b[39m\u001b[34m(self, operation, parameters)\u001b[39m\n\u001b[32m    579\u001b[39m \u001b[38;5;28;01mdef\u001b[39;00m\u001b[38;5;250m \u001b[39m\u001b[34mexecute\u001b[39m(\u001b[38;5;28mself\u001b[39m, operation, parameters=\u001b[38;5;28;01mNone\u001b[39;00m):\n\u001b[32m--> \u001b[39m\u001b[32m580\u001b[39m     \u001b[38;5;28;43mself\u001b[39;49m\u001b[43m.\u001b[49m\u001b[43m_adapt_connection\u001b[49m\u001b[43m.\u001b[49m\u001b[43mawait_\u001b[49m\u001b[43m(\u001b[49m\n\u001b[32m    581\u001b[39m \u001b[43m        \u001b[49m\u001b[38;5;28;43mself\u001b[39;49m\u001b[43m.\u001b[49m\u001b[43m_prepare_and_execute\u001b[49m\u001b[43m(\u001b[49m\u001b[43moperation\u001b[49m\u001b[43m,\u001b[49m\u001b[43m \u001b[49m\u001b[43mparameters\u001b[49m\u001b[43m)\u001b[49m\n\u001b[32m    582\u001b[39m \u001b[43m    \u001b[49m\u001b[43m)\u001b[49m\n",
      "\u001b[36mFile \u001b[39m\u001b[32m~/workspace/pythonProjects/Florin/parsers/ai/.venv/lib/python3.12/site-packages/sqlalchemy/util/_concurrency_py3k.py:132\u001b[39m, in \u001b[36mawait_only\u001b[39m\u001b[34m(awaitable)\u001b[39m\n\u001b[32m    128\u001b[39m \u001b[38;5;66;03m# returns the control to the driver greenlet passing it\u001b[39;00m\n\u001b[32m    129\u001b[39m \u001b[38;5;66;03m# a coroutine to run. Once the awaitable is done, the driver greenlet\u001b[39;00m\n\u001b[32m    130\u001b[39m \u001b[38;5;66;03m# switches back to this greenlet with the result of awaitable that is\u001b[39;00m\n\u001b[32m    131\u001b[39m \u001b[38;5;66;03m# then returned to the caller (or raised as error)\u001b[39;00m\n\u001b[32m--> \u001b[39m\u001b[32m132\u001b[39m \u001b[38;5;28;01mreturn\u001b[39;00m \u001b[43mcurrent\u001b[49m\u001b[43m.\u001b[49m\u001b[43mparent\u001b[49m\u001b[43m.\u001b[49m\u001b[43mswitch\u001b[49m\u001b[43m(\u001b[49m\u001b[43mawaitable\u001b[49m\u001b[43m)\u001b[49m\n",
      "\u001b[36mFile \u001b[39m\u001b[32m~/workspace/pythonProjects/Florin/parsers/ai/.venv/lib/python3.12/site-packages/sqlalchemy/util/_concurrency_py3k.py:196\u001b[39m, in \u001b[36mgreenlet_spawn\u001b[39m\u001b[34m(fn, _require_await, *args, **kwargs)\u001b[39m\n\u001b[32m    193\u001b[39m \u001b[38;5;28;01mtry\u001b[39;00m:\n\u001b[32m    194\u001b[39m     \u001b[38;5;66;03m# wait for a coroutine from await_only and then return its\u001b[39;00m\n\u001b[32m    195\u001b[39m     \u001b[38;5;66;03m# result back to it.\u001b[39;00m\n\u001b[32m--> \u001b[39m\u001b[32m196\u001b[39m     value = \u001b[38;5;28;01mawait\u001b[39;00m result\n\u001b[32m    197\u001b[39m \u001b[38;5;28;01mexcept\u001b[39;00m \u001b[38;5;167;01mBaseException\u001b[39;00m:\n\u001b[32m    198\u001b[39m     \u001b[38;5;66;03m# this allows an exception to be raised within\u001b[39;00m\n\u001b[32m    199\u001b[39m     \u001b[38;5;66;03m# the moderated greenlet so that it can continue\u001b[39;00m\n\u001b[32m    200\u001b[39m     \u001b[38;5;66;03m# its expected flow.\u001b[39;00m\n",
      "\u001b[36mFile \u001b[39m\u001b[32m~/workspace/pythonProjects/Florin/parsers/ai/.venv/lib/python3.12/site-packages/sqlalchemy/dialects/postgresql/asyncpg.py:515\u001b[39m, in \u001b[36mAsyncAdapt_asyncpg_cursor._prepare_and_execute\u001b[39m\u001b[34m(self, operation, parameters)\u001b[39m\n\u001b[32m    514\u001b[39m \u001b[38;5;28;01mif\u001b[39;00m \u001b[38;5;129;01mnot\u001b[39;00m adapt_connection._started:\n\u001b[32m--> \u001b[39m\u001b[32m515\u001b[39m     \u001b[38;5;28;01mawait\u001b[39;00m adapt_connection._start_transaction()\n\u001b[32m    517\u001b[39m \u001b[38;5;28;01mif\u001b[39;00m parameters \u001b[38;5;129;01mis\u001b[39;00m \u001b[38;5;28;01mNone\u001b[39;00m:\n",
      "\u001b[36mFile \u001b[39m\u001b[32m~/workspace/pythonProjects/Florin/parsers/ai/.venv/lib/python3.12/site-packages/sqlalchemy/dialects/postgresql/asyncpg.py:845\u001b[39m, in \u001b[36mAsyncAdapt_asyncpg_connection._start_transaction\u001b[39m\u001b[34m(self)\u001b[39m\n\u001b[32m    844\u001b[39m \u001b[38;5;28;01mexcept\u001b[39;00m \u001b[38;5;167;01mException\u001b[39;00m \u001b[38;5;28;01mas\u001b[39;00m error:\n\u001b[32m--> \u001b[39m\u001b[32m845\u001b[39m     \u001b[38;5;28;43mself\u001b[39;49m\u001b[43m.\u001b[49m\u001b[43m_handle_exception\u001b[49m\u001b[43m(\u001b[49m\u001b[43merror\u001b[49m\u001b[43m)\u001b[49m\n\u001b[32m    846\u001b[39m \u001b[38;5;28;01melse\u001b[39;00m:\n",
      "\u001b[36mFile \u001b[39m\u001b[32m~/workspace/pythonProjects/Florin/parsers/ai/.venv/lib/python3.12/site-packages/sqlalchemy/dialects/postgresql/asyncpg.py:792\u001b[39m, in \u001b[36mAsyncAdapt_asyncpg_connection._handle_exception\u001b[39m\u001b[34m(self, error)\u001b[39m\n\u001b[32m    789\u001b[39m         translated_error.pgcode = translated_error.sqlstate = (\n\u001b[32m    790\u001b[39m             \u001b[38;5;28mgetattr\u001b[39m(error, \u001b[33m\"\u001b[39m\u001b[33msqlstate\u001b[39m\u001b[33m\"\u001b[39m, \u001b[38;5;28;01mNone\u001b[39;00m)\n\u001b[32m    791\u001b[39m         )\n\u001b[32m--> \u001b[39m\u001b[32m792\u001b[39m         \u001b[38;5;28;01mraise\u001b[39;00m translated_error \u001b[38;5;28;01mfrom\u001b[39;00m\u001b[38;5;250m \u001b[39m\u001b[34;01merror\u001b[39;00m\n\u001b[32m    793\u001b[39m \u001b[38;5;28;01melse\u001b[39;00m:\n",
      "\u001b[31mError\u001b[39m: <class 'asyncpg.exceptions.ConnectionDoesNotExistError'>: connection was closed in the middle of operation",
      "\nThe above exception was the direct cause of the following exception:\n",
      "\u001b[31mDBAPIError\u001b[39m                                Traceback (most recent call last)",
      "\u001b[36mCell\u001b[39m\u001b[36m \u001b[39m\u001b[32mIn[45]\u001b[39m\u001b[32m, line 6\u001b[39m\n\u001b[32m      1\u001b[39m \u001b[38;5;28;01mfrom\u001b[39;00m\u001b[38;5;250m \u001b[39m\u001b[34;01msqlmodel\u001b[39;00m\u001b[38;5;250m \u001b[39m\u001b[38;5;28;01mimport\u001b[39;00m select\n\u001b[32m      4\u001b[39m \u001b[38;5;28;01masync\u001b[39;00m \u001b[38;5;28;01mwith\u001b[39;00m session_maker() \u001b[38;5;28;01mas\u001b[39;00m session:\n\u001b[32m      5\u001b[39m     plants = (\n\u001b[32m----> \u001b[39m\u001b[32m6\u001b[39m         \u001b[38;5;28;01mawait\u001b[39;00m session.exec(select(Plant).where(Plant.name != \u001b[38;5;28;01mNone\u001b[39;00m).limit(\u001b[32m10\u001b[39m))\n\u001b[32m      7\u001b[39m     ).all()\n",
      "\u001b[36mFile \u001b[39m\u001b[32m~/workspace/pythonProjects/Florin/parsers/ai/.venv/lib/python3.12/site-packages/sqlmodel/ext/asyncio/session.py:81\u001b[39m, in \u001b[36mAsyncSession.exec\u001b[39m\u001b[34m(self, statement, params, execution_options, bind_arguments, _parent_execute_state, _add_event)\u001b[39m\n\u001b[32m     78\u001b[39m \u001b[38;5;28;01melse\u001b[39;00m:\n\u001b[32m     79\u001b[39m     execution_options = _EXECUTE_OPTIONS\n\u001b[32m---> \u001b[39m\u001b[32m81\u001b[39m result = \u001b[38;5;28;01mawait\u001b[39;00m greenlet_spawn(\n\u001b[32m     82\u001b[39m     \u001b[38;5;28mself\u001b[39m.sync_session.exec,\n\u001b[32m     83\u001b[39m     statement,\n\u001b[32m     84\u001b[39m     params=params,\n\u001b[32m     85\u001b[39m     execution_options=execution_options,\n\u001b[32m     86\u001b[39m     bind_arguments=bind_arguments,\n\u001b[32m     87\u001b[39m     _parent_execute_state=_parent_execute_state,\n\u001b[32m     88\u001b[39m     _add_event=_add_event,\n\u001b[32m     89\u001b[39m )\n\u001b[32m     90\u001b[39m result_value = \u001b[38;5;28;01mawait\u001b[39;00m _ensure_sync_result(\n\u001b[32m     91\u001b[39m     cast(Result[_TSelectParam], result), \u001b[38;5;28mself\u001b[39m.exec\n\u001b[32m     92\u001b[39m )\n\u001b[32m     93\u001b[39m \u001b[38;5;28;01mreturn\u001b[39;00m result_value\n",
      "\u001b[36mFile \u001b[39m\u001b[32m~/workspace/pythonProjects/Florin/parsers/ai/.venv/lib/python3.12/site-packages/sqlalchemy/util/_concurrency_py3k.py:203\u001b[39m, in \u001b[36mgreenlet_spawn\u001b[39m\u001b[34m(fn, _require_await, *args, **kwargs)\u001b[39m\n\u001b[32m    201\u001b[39m         result = context.throw(*sys.exc_info())\n\u001b[32m    202\u001b[39m     \u001b[38;5;28;01melse\u001b[39;00m:\n\u001b[32m--> \u001b[39m\u001b[32m203\u001b[39m         result = \u001b[43mcontext\u001b[49m\u001b[43m.\u001b[49m\u001b[43mswitch\u001b[49m\u001b[43m(\u001b[49m\u001b[43mvalue\u001b[49m\u001b[43m)\u001b[49m\n\u001b[32m    205\u001b[39m \u001b[38;5;28;01mif\u001b[39;00m _require_await \u001b[38;5;129;01mand\u001b[39;00m \u001b[38;5;129;01mnot\u001b[39;00m switch_occurred:\n\u001b[32m    206\u001b[39m     \u001b[38;5;28;01mraise\u001b[39;00m exc.AwaitRequired(\n\u001b[32m    207\u001b[39m         \u001b[33m\"\u001b[39m\u001b[33mThe current operation required an async execution but none was \u001b[39m\u001b[33m\"\u001b[39m\n\u001b[32m    208\u001b[39m         \u001b[33m\"\u001b[39m\u001b[33mdetected. This will usually happen when using a non compatible \u001b[39m\u001b[33m\"\u001b[39m\n\u001b[32m    209\u001b[39m         \u001b[33m\"\u001b[39m\u001b[33mDBAPI driver. Please ensure that an async DBAPI is used.\u001b[39m\u001b[33m\"\u001b[39m\n\u001b[32m    210\u001b[39m     )\n",
      "\u001b[36mFile \u001b[39m\u001b[32m~/workspace/pythonProjects/Florin/parsers/ai/.venv/lib/python3.12/site-packages/sqlmodel/orm/session.py:66\u001b[39m, in \u001b[36mSession.exec\u001b[39m\u001b[34m(self, statement, params, execution_options, bind_arguments, _parent_execute_state, _add_event)\u001b[39m\n\u001b[32m     52\u001b[39m \u001b[38;5;28;01mdef\u001b[39;00m\u001b[38;5;250m \u001b[39m\u001b[34mexec\u001b[39m(\n\u001b[32m     53\u001b[39m     \u001b[38;5;28mself\u001b[39m,\n\u001b[32m     54\u001b[39m     statement: Union[\n\u001b[32m   (...)\u001b[39m\u001b[32m     64\u001b[39m     _add_event: Optional[Any] = \u001b[38;5;28;01mNone\u001b[39;00m,\n\u001b[32m     65\u001b[39m ) -> Union[TupleResult[_TSelectParam], ScalarResult[_TSelectParam]]:\n\u001b[32m---> \u001b[39m\u001b[32m66\u001b[39m     results = \u001b[38;5;28;43msuper\u001b[39;49m\u001b[43m(\u001b[49m\u001b[43m)\u001b[49m\u001b[43m.\u001b[49m\u001b[43mexecute\u001b[49m\u001b[43m(\u001b[49m\n\u001b[32m     67\u001b[39m \u001b[43m        \u001b[49m\u001b[43mstatement\u001b[49m\u001b[43m,\u001b[49m\n\u001b[32m     68\u001b[39m \u001b[43m        \u001b[49m\u001b[43mparams\u001b[49m\u001b[43m=\u001b[49m\u001b[43mparams\u001b[49m\u001b[43m,\u001b[49m\n\u001b[32m     69\u001b[39m \u001b[43m        \u001b[49m\u001b[43mexecution_options\u001b[49m\u001b[43m=\u001b[49m\u001b[43mexecution_options\u001b[49m\u001b[43m,\u001b[49m\n\u001b[32m     70\u001b[39m \u001b[43m        \u001b[49m\u001b[43mbind_arguments\u001b[49m\u001b[43m=\u001b[49m\u001b[43mbind_arguments\u001b[49m\u001b[43m,\u001b[49m\n\u001b[32m     71\u001b[39m \u001b[43m        \u001b[49m\u001b[43m_parent_execute_state\u001b[49m\u001b[43m=\u001b[49m\u001b[43m_parent_execute_state\u001b[49m\u001b[43m,\u001b[49m\n\u001b[32m     72\u001b[39m \u001b[43m        \u001b[49m\u001b[43m_add_event\u001b[49m\u001b[43m=\u001b[49m\u001b[43m_add_event\u001b[49m\u001b[43m,\u001b[49m\n\u001b[32m     73\u001b[39m \u001b[43m    \u001b[49m\u001b[43m)\u001b[49m\n\u001b[32m     74\u001b[39m     \u001b[38;5;28;01mif\u001b[39;00m \u001b[38;5;28misinstance\u001b[39m(statement, SelectOfScalar):\n\u001b[32m     75\u001b[39m         \u001b[38;5;28;01mreturn\u001b[39;00m results.scalars()\n",
      "\u001b[36mFile \u001b[39m\u001b[32m~/workspace/pythonProjects/Florin/parsers/ai/.venv/lib/python3.12/site-packages/sqlalchemy/orm/session.py:2365\u001b[39m, in \u001b[36mSession.execute\u001b[39m\u001b[34m(self, statement, params, execution_options, bind_arguments, _parent_execute_state, _add_event)\u001b[39m\n\u001b[32m   2305\u001b[39m \u001b[38;5;28;01mdef\u001b[39;00m\u001b[38;5;250m \u001b[39m\u001b[34mexecute\u001b[39m(\n\u001b[32m   2306\u001b[39m     \u001b[38;5;28mself\u001b[39m,\n\u001b[32m   2307\u001b[39m     statement: Executable,\n\u001b[32m   (...)\u001b[39m\u001b[32m   2313\u001b[39m     _add_event: Optional[Any] = \u001b[38;5;28;01mNone\u001b[39;00m,\n\u001b[32m   2314\u001b[39m ) -> Result[Any]:\n\u001b[32m   2315\u001b[39m \u001b[38;5;250m    \u001b[39m\u001b[33mr\u001b[39m\u001b[33;03m\"\"\"Execute a SQL expression construct.\u001b[39;00m\n\u001b[32m   2316\u001b[39m \n\u001b[32m   2317\u001b[39m \u001b[33;03m    Returns a :class:`_engine.Result` object representing\u001b[39;00m\n\u001b[32m   (...)\u001b[39m\u001b[32m   2363\u001b[39m \n\u001b[32m   2364\u001b[39m \u001b[33;03m    \"\"\"\u001b[39;00m\n\u001b[32m-> \u001b[39m\u001b[32m2365\u001b[39m     \u001b[38;5;28;01mreturn\u001b[39;00m \u001b[38;5;28;43mself\u001b[39;49m\u001b[43m.\u001b[49m\u001b[43m_execute_internal\u001b[49m\u001b[43m(\u001b[49m\n\u001b[32m   2366\u001b[39m \u001b[43m        \u001b[49m\u001b[43mstatement\u001b[49m\u001b[43m,\u001b[49m\n\u001b[32m   2367\u001b[39m \u001b[43m        \u001b[49m\u001b[43mparams\u001b[49m\u001b[43m,\u001b[49m\n\u001b[32m   2368\u001b[39m \u001b[43m        \u001b[49m\u001b[43mexecution_options\u001b[49m\u001b[43m=\u001b[49m\u001b[43mexecution_options\u001b[49m\u001b[43m,\u001b[49m\n\u001b[32m   2369\u001b[39m \u001b[43m        \u001b[49m\u001b[43mbind_arguments\u001b[49m\u001b[43m=\u001b[49m\u001b[43mbind_arguments\u001b[49m\u001b[43m,\u001b[49m\n\u001b[32m   2370\u001b[39m \u001b[43m        \u001b[49m\u001b[43m_parent_execute_state\u001b[49m\u001b[43m=\u001b[49m\u001b[43m_parent_execute_state\u001b[49m\u001b[43m,\u001b[49m\n\u001b[32m   2371\u001b[39m \u001b[43m        \u001b[49m\u001b[43m_add_event\u001b[49m\u001b[43m=\u001b[49m\u001b[43m_add_event\u001b[49m\u001b[43m,\u001b[49m\n\u001b[32m   2372\u001b[39m \u001b[43m    \u001b[49m\u001b[43m)\u001b[49m\n",
      "\u001b[36mFile \u001b[39m\u001b[32m~/workspace/pythonProjects/Florin/parsers/ai/.venv/lib/python3.12/site-packages/sqlalchemy/orm/session.py:2251\u001b[39m, in \u001b[36mSession._execute_internal\u001b[39m\u001b[34m(self, statement, params, execution_options, bind_arguments, _parent_execute_state, _add_event, _scalar_result)\u001b[39m\n\u001b[32m   2246\u001b[39m     \u001b[38;5;28;01mreturn\u001b[39;00m conn.scalar(\n\u001b[32m   2247\u001b[39m         statement, params \u001b[38;5;129;01mor\u001b[39;00m {}, execution_options=execution_options\n\u001b[32m   2248\u001b[39m     )\n\u001b[32m   2250\u001b[39m \u001b[38;5;28;01mif\u001b[39;00m compile_state_cls:\n\u001b[32m-> \u001b[39m\u001b[32m2251\u001b[39m     result: Result[Any] = \u001b[43mcompile_state_cls\u001b[49m\u001b[43m.\u001b[49m\u001b[43morm_execute_statement\u001b[49m\u001b[43m(\u001b[49m\n\u001b[32m   2252\u001b[39m \u001b[43m        \u001b[49m\u001b[38;5;28;43mself\u001b[39;49m\u001b[43m,\u001b[49m\n\u001b[32m   2253\u001b[39m \u001b[43m        \u001b[49m\u001b[43mstatement\u001b[49m\u001b[43m,\u001b[49m\n\u001b[32m   2254\u001b[39m \u001b[43m        \u001b[49m\u001b[43mparams\u001b[49m\u001b[43m \u001b[49m\u001b[38;5;129;43;01mor\u001b[39;49;00m\u001b[43m \u001b[49m\u001b[43m{\u001b[49m\u001b[43m}\u001b[49m\u001b[43m,\u001b[49m\n\u001b[32m   2255\u001b[39m \u001b[43m        \u001b[49m\u001b[43mexecution_options\u001b[49m\u001b[43m,\u001b[49m\n\u001b[32m   2256\u001b[39m \u001b[43m        \u001b[49m\u001b[43mbind_arguments\u001b[49m\u001b[43m,\u001b[49m\n\u001b[32m   2257\u001b[39m \u001b[43m        \u001b[49m\u001b[43mconn\u001b[49m\u001b[43m,\u001b[49m\n\u001b[32m   2258\u001b[39m \u001b[43m    \u001b[49m\u001b[43m)\u001b[49m\n\u001b[32m   2259\u001b[39m \u001b[38;5;28;01melse\u001b[39;00m:\n\u001b[32m   2260\u001b[39m     result = conn.execute(\n\u001b[32m   2261\u001b[39m         statement, params \u001b[38;5;129;01mor\u001b[39;00m {}, execution_options=execution_options\n\u001b[32m   2262\u001b[39m     )\n",
      "\u001b[36mFile \u001b[39m\u001b[32m~/workspace/pythonProjects/Florin/parsers/ai/.venv/lib/python3.12/site-packages/sqlalchemy/orm/context.py:305\u001b[39m, in \u001b[36mAbstractORMCompileState.orm_execute_statement\u001b[39m\u001b[34m(cls, session, statement, params, execution_options, bind_arguments, conn)\u001b[39m\n\u001b[32m    295\u001b[39m \u001b[38;5;129m@classmethod\u001b[39m\n\u001b[32m    296\u001b[39m \u001b[38;5;28;01mdef\u001b[39;00m\u001b[38;5;250m \u001b[39m\u001b[34morm_execute_statement\u001b[39m(\n\u001b[32m    297\u001b[39m     \u001b[38;5;28mcls\u001b[39m,\n\u001b[32m   (...)\u001b[39m\u001b[32m    303\u001b[39m     conn,\n\u001b[32m    304\u001b[39m ) -> Result:\n\u001b[32m--> \u001b[39m\u001b[32m305\u001b[39m     result = \u001b[43mconn\u001b[49m\u001b[43m.\u001b[49m\u001b[43mexecute\u001b[49m\u001b[43m(\u001b[49m\n\u001b[32m    306\u001b[39m \u001b[43m        \u001b[49m\u001b[43mstatement\u001b[49m\u001b[43m,\u001b[49m\u001b[43m \u001b[49m\u001b[43mparams\u001b[49m\u001b[43m \u001b[49m\u001b[38;5;129;43;01mor\u001b[39;49;00m\u001b[43m \u001b[49m\u001b[43m{\u001b[49m\u001b[43m}\u001b[49m\u001b[43m,\u001b[49m\u001b[43m \u001b[49m\u001b[43mexecution_options\u001b[49m\u001b[43m=\u001b[49m\u001b[43mexecution_options\u001b[49m\n\u001b[32m    307\u001b[39m \u001b[43m    \u001b[49m\u001b[43m)\u001b[49m\n\u001b[32m    308\u001b[39m     \u001b[38;5;28;01mreturn\u001b[39;00m \u001b[38;5;28mcls\u001b[39m.orm_setup_cursor_result(\n\u001b[32m    309\u001b[39m         session,\n\u001b[32m    310\u001b[39m         statement,\n\u001b[32m   (...)\u001b[39m\u001b[32m    314\u001b[39m         result,\n\u001b[32m    315\u001b[39m     )\n",
      "\u001b[36mFile \u001b[39m\u001b[32m~/workspace/pythonProjects/Florin/parsers/ai/.venv/lib/python3.12/site-packages/sqlalchemy/engine/base.py:1416\u001b[39m, in \u001b[36mConnection.execute\u001b[39m\u001b[34m(self, statement, parameters, execution_options)\u001b[39m\n\u001b[32m   1414\u001b[39m     \u001b[38;5;28;01mraise\u001b[39;00m exc.ObjectNotExecutableError(statement) \u001b[38;5;28;01mfrom\u001b[39;00m\u001b[38;5;250m \u001b[39m\u001b[34;01merr\u001b[39;00m\n\u001b[32m   1415\u001b[39m \u001b[38;5;28;01melse\u001b[39;00m:\n\u001b[32m-> \u001b[39m\u001b[32m1416\u001b[39m     \u001b[38;5;28;01mreturn\u001b[39;00m \u001b[43mmeth\u001b[49m\u001b[43m(\u001b[49m\n\u001b[32m   1417\u001b[39m \u001b[43m        \u001b[49m\u001b[38;5;28;43mself\u001b[39;49m\u001b[43m,\u001b[49m\n\u001b[32m   1418\u001b[39m \u001b[43m        \u001b[49m\u001b[43mdistilled_parameters\u001b[49m\u001b[43m,\u001b[49m\n\u001b[32m   1419\u001b[39m \u001b[43m        \u001b[49m\u001b[43mexecution_options\u001b[49m\u001b[43m \u001b[49m\u001b[38;5;129;43;01mor\u001b[39;49;00m\u001b[43m \u001b[49m\u001b[43mNO_OPTIONS\u001b[49m\u001b[43m,\u001b[49m\n\u001b[32m   1420\u001b[39m \u001b[43m    \u001b[49m\u001b[43m)\u001b[49m\n",
      "\u001b[36mFile \u001b[39m\u001b[32m~/workspace/pythonProjects/Florin/parsers/ai/.venv/lib/python3.12/site-packages/sqlalchemy/sql/elements.py:516\u001b[39m, in \u001b[36mClauseElement._execute_on_connection\u001b[39m\u001b[34m(self, connection, distilled_params, execution_options)\u001b[39m\n\u001b[32m    514\u001b[39m     \u001b[38;5;28;01mif\u001b[39;00m TYPE_CHECKING:\n\u001b[32m    515\u001b[39m         \u001b[38;5;28;01massert\u001b[39;00m \u001b[38;5;28misinstance\u001b[39m(\u001b[38;5;28mself\u001b[39m, Executable)\n\u001b[32m--> \u001b[39m\u001b[32m516\u001b[39m     \u001b[38;5;28;01mreturn\u001b[39;00m \u001b[43mconnection\u001b[49m\u001b[43m.\u001b[49m\u001b[43m_execute_clauseelement\u001b[49m\u001b[43m(\u001b[49m\n\u001b[32m    517\u001b[39m \u001b[43m        \u001b[49m\u001b[38;5;28;43mself\u001b[39;49m\u001b[43m,\u001b[49m\u001b[43m \u001b[49m\u001b[43mdistilled_params\u001b[49m\u001b[43m,\u001b[49m\u001b[43m \u001b[49m\u001b[43mexecution_options\u001b[49m\n\u001b[32m    518\u001b[39m \u001b[43m    \u001b[49m\u001b[43m)\u001b[49m\n\u001b[32m    519\u001b[39m \u001b[38;5;28;01melse\u001b[39;00m:\n\u001b[32m    520\u001b[39m     \u001b[38;5;28;01mraise\u001b[39;00m exc.ObjectNotExecutableError(\u001b[38;5;28mself\u001b[39m)\n",
      "\u001b[36mFile \u001b[39m\u001b[32m~/workspace/pythonProjects/Florin/parsers/ai/.venv/lib/python3.12/site-packages/sqlalchemy/engine/base.py:1638\u001b[39m, in \u001b[36mConnection._execute_clauseelement\u001b[39m\u001b[34m(self, elem, distilled_parameters, execution_options)\u001b[39m\n\u001b[32m   1626\u001b[39m compiled_cache: Optional[CompiledCacheType] = execution_options.get(\n\u001b[32m   1627\u001b[39m     \u001b[33m\"\u001b[39m\u001b[33mcompiled_cache\u001b[39m\u001b[33m\"\u001b[39m, \u001b[38;5;28mself\u001b[39m.engine._compiled_cache\n\u001b[32m   1628\u001b[39m )\n\u001b[32m   1630\u001b[39m compiled_sql, extracted_params, cache_hit = elem._compile_w_cache(\n\u001b[32m   1631\u001b[39m     dialect=dialect,\n\u001b[32m   1632\u001b[39m     compiled_cache=compiled_cache,\n\u001b[32m   (...)\u001b[39m\u001b[32m   1636\u001b[39m     linting=\u001b[38;5;28mself\u001b[39m.dialect.compiler_linting | compiler.WARN_LINTING,\n\u001b[32m   1637\u001b[39m )\n\u001b[32m-> \u001b[39m\u001b[32m1638\u001b[39m ret = \u001b[38;5;28;43mself\u001b[39;49m\u001b[43m.\u001b[49m\u001b[43m_execute_context\u001b[49m\u001b[43m(\u001b[49m\n\u001b[32m   1639\u001b[39m \u001b[43m    \u001b[49m\u001b[43mdialect\u001b[49m\u001b[43m,\u001b[49m\n\u001b[32m   1640\u001b[39m \u001b[43m    \u001b[49m\u001b[43mdialect\u001b[49m\u001b[43m.\u001b[49m\u001b[43mexecution_ctx_cls\u001b[49m\u001b[43m.\u001b[49m\u001b[43m_init_compiled\u001b[49m\u001b[43m,\u001b[49m\n\u001b[32m   1641\u001b[39m \u001b[43m    \u001b[49m\u001b[43mcompiled_sql\u001b[49m\u001b[43m,\u001b[49m\n\u001b[32m   1642\u001b[39m \u001b[43m    \u001b[49m\u001b[43mdistilled_parameters\u001b[49m\u001b[43m,\u001b[49m\n\u001b[32m   1643\u001b[39m \u001b[43m    \u001b[49m\u001b[43mexecution_options\u001b[49m\u001b[43m,\u001b[49m\n\u001b[32m   1644\u001b[39m \u001b[43m    \u001b[49m\u001b[43mcompiled_sql\u001b[49m\u001b[43m,\u001b[49m\n\u001b[32m   1645\u001b[39m \u001b[43m    \u001b[49m\u001b[43mdistilled_parameters\u001b[49m\u001b[43m,\u001b[49m\n\u001b[32m   1646\u001b[39m \u001b[43m    \u001b[49m\u001b[43melem\u001b[49m\u001b[43m,\u001b[49m\n\u001b[32m   1647\u001b[39m \u001b[43m    \u001b[49m\u001b[43mextracted_params\u001b[49m\u001b[43m,\u001b[49m\n\u001b[32m   1648\u001b[39m \u001b[43m    \u001b[49m\u001b[43mcache_hit\u001b[49m\u001b[43m=\u001b[49m\u001b[43mcache_hit\u001b[49m\u001b[43m,\u001b[49m\n\u001b[32m   1649\u001b[39m \u001b[43m\u001b[49m\u001b[43m)\u001b[49m\n\u001b[32m   1650\u001b[39m \u001b[38;5;28;01mif\u001b[39;00m has_events:\n\u001b[32m   1651\u001b[39m     \u001b[38;5;28mself\u001b[39m.dispatch.after_execute(\n\u001b[32m   1652\u001b[39m         \u001b[38;5;28mself\u001b[39m,\n\u001b[32m   1653\u001b[39m         elem,\n\u001b[32m   (...)\u001b[39m\u001b[32m   1657\u001b[39m         ret,\n\u001b[32m   1658\u001b[39m     )\n",
      "\u001b[36mFile \u001b[39m\u001b[32m~/workspace/pythonProjects/Florin/parsers/ai/.venv/lib/python3.12/site-packages/sqlalchemy/engine/base.py:1843\u001b[39m, in \u001b[36mConnection._execute_context\u001b[39m\u001b[34m(self, dialect, constructor, statement, parameters, execution_options, *args, **kw)\u001b[39m\n\u001b[32m   1841\u001b[39m     \u001b[38;5;28;01mreturn\u001b[39;00m \u001b[38;5;28mself\u001b[39m._exec_insertmany_context(dialect, context)\n\u001b[32m   1842\u001b[39m \u001b[38;5;28;01melse\u001b[39;00m:\n\u001b[32m-> \u001b[39m\u001b[32m1843\u001b[39m     \u001b[38;5;28;01mreturn\u001b[39;00m \u001b[38;5;28;43mself\u001b[39;49m\u001b[43m.\u001b[49m\u001b[43m_exec_single_context\u001b[49m\u001b[43m(\u001b[49m\n\u001b[32m   1844\u001b[39m \u001b[43m        \u001b[49m\u001b[43mdialect\u001b[49m\u001b[43m,\u001b[49m\u001b[43m \u001b[49m\u001b[43mcontext\u001b[49m\u001b[43m,\u001b[49m\u001b[43m \u001b[49m\u001b[43mstatement\u001b[49m\u001b[43m,\u001b[49m\u001b[43m \u001b[49m\u001b[43mparameters\u001b[49m\n\u001b[32m   1845\u001b[39m \u001b[43m    \u001b[49m\u001b[43m)\u001b[49m\n",
      "\u001b[36mFile \u001b[39m\u001b[32m~/workspace/pythonProjects/Florin/parsers/ai/.venv/lib/python3.12/site-packages/sqlalchemy/engine/base.py:1983\u001b[39m, in \u001b[36mConnection._exec_single_context\u001b[39m\u001b[34m(self, dialect, context, statement, parameters)\u001b[39m\n\u001b[32m   1980\u001b[39m     result = context._setup_result_proxy()\n\u001b[32m   1982\u001b[39m \u001b[38;5;28;01mexcept\u001b[39;00m \u001b[38;5;167;01mBaseException\u001b[39;00m \u001b[38;5;28;01mas\u001b[39;00m e:\n\u001b[32m-> \u001b[39m\u001b[32m1983\u001b[39m     \u001b[38;5;28;43mself\u001b[39;49m\u001b[43m.\u001b[49m\u001b[43m_handle_dbapi_exception\u001b[49m\u001b[43m(\u001b[49m\n\u001b[32m   1984\u001b[39m \u001b[43m        \u001b[49m\u001b[43me\u001b[49m\u001b[43m,\u001b[49m\u001b[43m \u001b[49m\u001b[43mstr_statement\u001b[49m\u001b[43m,\u001b[49m\u001b[43m \u001b[49m\u001b[43meffective_parameters\u001b[49m\u001b[43m,\u001b[49m\u001b[43m \u001b[49m\u001b[43mcursor\u001b[49m\u001b[43m,\u001b[49m\u001b[43m \u001b[49m\u001b[43mcontext\u001b[49m\n\u001b[32m   1985\u001b[39m \u001b[43m    \u001b[49m\u001b[43m)\u001b[49m\n\u001b[32m   1987\u001b[39m \u001b[38;5;28;01mreturn\u001b[39;00m result\n",
      "\u001b[36mFile \u001b[39m\u001b[32m~/workspace/pythonProjects/Florin/parsers/ai/.venv/lib/python3.12/site-packages/sqlalchemy/engine/base.py:2352\u001b[39m, in \u001b[36mConnection._handle_dbapi_exception\u001b[39m\u001b[34m(self, e, statement, parameters, cursor, context, is_sub_exec)\u001b[39m\n\u001b[32m   2350\u001b[39m \u001b[38;5;28;01melif\u001b[39;00m should_wrap:\n\u001b[32m   2351\u001b[39m     \u001b[38;5;28;01massert\u001b[39;00m sqlalchemy_exception \u001b[38;5;129;01mis\u001b[39;00m \u001b[38;5;129;01mnot\u001b[39;00m \u001b[38;5;28;01mNone\u001b[39;00m\n\u001b[32m-> \u001b[39m\u001b[32m2352\u001b[39m     \u001b[38;5;28;01mraise\u001b[39;00m sqlalchemy_exception.with_traceback(exc_info[\u001b[32m2\u001b[39m]) \u001b[38;5;28;01mfrom\u001b[39;00m\u001b[38;5;250m \u001b[39m\u001b[34;01me\u001b[39;00m\n\u001b[32m   2353\u001b[39m \u001b[38;5;28;01melse\u001b[39;00m:\n\u001b[32m   2354\u001b[39m     \u001b[38;5;28;01massert\u001b[39;00m exc_info[\u001b[32m1\u001b[39m] \u001b[38;5;129;01mis\u001b[39;00m \u001b[38;5;129;01mnot\u001b[39;00m \u001b[38;5;28;01mNone\u001b[39;00m\n",
      "\u001b[36mFile \u001b[39m\u001b[32m~/workspace/pythonProjects/Florin/parsers/ai/.venv/lib/python3.12/site-packages/sqlalchemy/engine/base.py:1964\u001b[39m, in \u001b[36mConnection._exec_single_context\u001b[39m\u001b[34m(self, dialect, context, statement, parameters)\u001b[39m\n\u001b[32m   1962\u001b[39m                 \u001b[38;5;28;01mbreak\u001b[39;00m\n\u001b[32m   1963\u001b[39m     \u001b[38;5;28;01mif\u001b[39;00m \u001b[38;5;129;01mnot\u001b[39;00m evt_handled:\n\u001b[32m-> \u001b[39m\u001b[32m1964\u001b[39m         \u001b[38;5;28;43mself\u001b[39;49m\u001b[43m.\u001b[49m\u001b[43mdialect\u001b[49m\u001b[43m.\u001b[49m\u001b[43mdo_execute\u001b[49m\u001b[43m(\u001b[49m\n\u001b[32m   1965\u001b[39m \u001b[43m            \u001b[49m\u001b[43mcursor\u001b[49m\u001b[43m,\u001b[49m\u001b[43m \u001b[49m\u001b[43mstr_statement\u001b[49m\u001b[43m,\u001b[49m\u001b[43m \u001b[49m\u001b[43meffective_parameters\u001b[49m\u001b[43m,\u001b[49m\u001b[43m \u001b[49m\u001b[43mcontext\u001b[49m\n\u001b[32m   1966\u001b[39m \u001b[43m        \u001b[49m\u001b[43m)\u001b[49m\n\u001b[32m   1968\u001b[39m \u001b[38;5;28;01mif\u001b[39;00m \u001b[38;5;28mself\u001b[39m._has_events \u001b[38;5;129;01mor\u001b[39;00m \u001b[38;5;28mself\u001b[39m.engine._has_events:\n\u001b[32m   1969\u001b[39m     \u001b[38;5;28mself\u001b[39m.dispatch.after_cursor_execute(\n\u001b[32m   1970\u001b[39m         \u001b[38;5;28mself\u001b[39m,\n\u001b[32m   1971\u001b[39m         cursor,\n\u001b[32m   (...)\u001b[39m\u001b[32m   1975\u001b[39m         context.executemany,\n\u001b[32m   1976\u001b[39m     )\n",
      "\u001b[36mFile \u001b[39m\u001b[32m~/workspace/pythonProjects/Florin/parsers/ai/.venv/lib/python3.12/site-packages/sqlalchemy/engine/default.py:942\u001b[39m, in \u001b[36mDefaultDialect.do_execute\u001b[39m\u001b[34m(self, cursor, statement, parameters, context)\u001b[39m\n\u001b[32m    941\u001b[39m \u001b[38;5;28;01mdef\u001b[39;00m\u001b[38;5;250m \u001b[39m\u001b[34mdo_execute\u001b[39m(\u001b[38;5;28mself\u001b[39m, cursor, statement, parameters, context=\u001b[38;5;28;01mNone\u001b[39;00m):\n\u001b[32m--> \u001b[39m\u001b[32m942\u001b[39m     \u001b[43mcursor\u001b[49m\u001b[43m.\u001b[49m\u001b[43mexecute\u001b[49m\u001b[43m(\u001b[49m\u001b[43mstatement\u001b[49m\u001b[43m,\u001b[49m\u001b[43m \u001b[49m\u001b[43mparameters\u001b[49m\u001b[43m)\u001b[49m\n",
      "\u001b[36mFile \u001b[39m\u001b[32m~/workspace/pythonProjects/Florin/parsers/ai/.venv/lib/python3.12/site-packages/sqlalchemy/dialects/postgresql/asyncpg.py:580\u001b[39m, in \u001b[36mAsyncAdapt_asyncpg_cursor.execute\u001b[39m\u001b[34m(self, operation, parameters)\u001b[39m\n\u001b[32m    579\u001b[39m \u001b[38;5;28;01mdef\u001b[39;00m\u001b[38;5;250m \u001b[39m\u001b[34mexecute\u001b[39m(\u001b[38;5;28mself\u001b[39m, operation, parameters=\u001b[38;5;28;01mNone\u001b[39;00m):\n\u001b[32m--> \u001b[39m\u001b[32m580\u001b[39m     \u001b[38;5;28;43mself\u001b[39;49m\u001b[43m.\u001b[49m\u001b[43m_adapt_connection\u001b[49m\u001b[43m.\u001b[49m\u001b[43mawait_\u001b[49m\u001b[43m(\u001b[49m\n\u001b[32m    581\u001b[39m \u001b[43m        \u001b[49m\u001b[38;5;28;43mself\u001b[39;49m\u001b[43m.\u001b[49m\u001b[43m_prepare_and_execute\u001b[49m\u001b[43m(\u001b[49m\u001b[43moperation\u001b[49m\u001b[43m,\u001b[49m\u001b[43m \u001b[49m\u001b[43mparameters\u001b[49m\u001b[43m)\u001b[49m\n\u001b[32m    582\u001b[39m \u001b[43m    \u001b[49m\u001b[43m)\u001b[49m\n",
      "\u001b[36mFile \u001b[39m\u001b[32m~/workspace/pythonProjects/Florin/parsers/ai/.venv/lib/python3.12/site-packages/sqlalchemy/util/_concurrency_py3k.py:132\u001b[39m, in \u001b[36mawait_only\u001b[39m\u001b[34m(awaitable)\u001b[39m\n\u001b[32m    123\u001b[39m     \u001b[38;5;28;01mraise\u001b[39;00m exc.MissingGreenlet(\n\u001b[32m    124\u001b[39m         \u001b[33m\"\u001b[39m\u001b[33mgreenlet_spawn has not been called; can\u001b[39m\u001b[33m'\u001b[39m\u001b[33mt call await_only() \u001b[39m\u001b[33m\"\u001b[39m\n\u001b[32m    125\u001b[39m         \u001b[33m\"\u001b[39m\u001b[33mhere. Was IO attempted in an unexpected place?\u001b[39m\u001b[33m\"\u001b[39m\n\u001b[32m    126\u001b[39m     )\n\u001b[32m    128\u001b[39m \u001b[38;5;66;03m# returns the control to the driver greenlet passing it\u001b[39;00m\n\u001b[32m    129\u001b[39m \u001b[38;5;66;03m# a coroutine to run. Once the awaitable is done, the driver greenlet\u001b[39;00m\n\u001b[32m    130\u001b[39m \u001b[38;5;66;03m# switches back to this greenlet with the result of awaitable that is\u001b[39;00m\n\u001b[32m    131\u001b[39m \u001b[38;5;66;03m# then returned to the caller (or raised as error)\u001b[39;00m\n\u001b[32m--> \u001b[39m\u001b[32m132\u001b[39m \u001b[38;5;28;01mreturn\u001b[39;00m \u001b[43mcurrent\u001b[49m\u001b[43m.\u001b[49m\u001b[43mparent\u001b[49m\u001b[43m.\u001b[49m\u001b[43mswitch\u001b[49m\u001b[43m(\u001b[49m\u001b[43mawaitable\u001b[49m\u001b[43m)\u001b[49m\n",
      "\u001b[36mFile \u001b[39m\u001b[32m~/workspace/pythonProjects/Florin/parsers/ai/.venv/lib/python3.12/site-packages/sqlalchemy/util/_concurrency_py3k.py:196\u001b[39m, in \u001b[36mgreenlet_spawn\u001b[39m\u001b[34m(fn, _require_await, *args, **kwargs)\u001b[39m\n\u001b[32m    192\u001b[39m switch_occurred = \u001b[38;5;28;01mTrue\u001b[39;00m\n\u001b[32m    193\u001b[39m \u001b[38;5;28;01mtry\u001b[39;00m:\n\u001b[32m    194\u001b[39m     \u001b[38;5;66;03m# wait for a coroutine from await_only and then return its\u001b[39;00m\n\u001b[32m    195\u001b[39m     \u001b[38;5;66;03m# result back to it.\u001b[39;00m\n\u001b[32m--> \u001b[39m\u001b[32m196\u001b[39m     value = \u001b[38;5;28;01mawait\u001b[39;00m result\n\u001b[32m    197\u001b[39m \u001b[38;5;28;01mexcept\u001b[39;00m \u001b[38;5;167;01mBaseException\u001b[39;00m:\n\u001b[32m    198\u001b[39m     \u001b[38;5;66;03m# this allows an exception to be raised within\u001b[39;00m\n\u001b[32m    199\u001b[39m     \u001b[38;5;66;03m# the moderated greenlet so that it can continue\u001b[39;00m\n\u001b[32m    200\u001b[39m     \u001b[38;5;66;03m# its expected flow.\u001b[39;00m\n\u001b[32m    201\u001b[39m     result = context.throw(*sys.exc_info())\n",
      "\u001b[36mFile \u001b[39m\u001b[32m~/workspace/pythonProjects/Florin/parsers/ai/.venv/lib/python3.12/site-packages/sqlalchemy/dialects/postgresql/asyncpg.py:515\u001b[39m, in \u001b[36mAsyncAdapt_asyncpg_cursor._prepare_and_execute\u001b[39m\u001b[34m(self, operation, parameters)\u001b[39m\n\u001b[32m    513\u001b[39m \u001b[38;5;28;01masync\u001b[39;00m \u001b[38;5;28;01mwith\u001b[39;00m adapt_connection._execute_mutex:\n\u001b[32m    514\u001b[39m     \u001b[38;5;28;01mif\u001b[39;00m \u001b[38;5;129;01mnot\u001b[39;00m adapt_connection._started:\n\u001b[32m--> \u001b[39m\u001b[32m515\u001b[39m         \u001b[38;5;28;01mawait\u001b[39;00m adapt_connection._start_transaction()\n\u001b[32m    517\u001b[39m     \u001b[38;5;28;01mif\u001b[39;00m parameters \u001b[38;5;129;01mis\u001b[39;00m \u001b[38;5;28;01mNone\u001b[39;00m:\n\u001b[32m    518\u001b[39m         parameters = ()\n",
      "\u001b[36mFile \u001b[39m\u001b[32m~/workspace/pythonProjects/Florin/parsers/ai/.venv/lib/python3.12/site-packages/sqlalchemy/dialects/postgresql/asyncpg.py:845\u001b[39m, in \u001b[36mAsyncAdapt_asyncpg_connection._start_transaction\u001b[39m\u001b[34m(self)\u001b[39m\n\u001b[32m    843\u001b[39m     \u001b[38;5;28;01mawait\u001b[39;00m \u001b[38;5;28mself\u001b[39m._transaction.start()\n\u001b[32m    844\u001b[39m \u001b[38;5;28;01mexcept\u001b[39;00m \u001b[38;5;167;01mException\u001b[39;00m \u001b[38;5;28;01mas\u001b[39;00m error:\n\u001b[32m--> \u001b[39m\u001b[32m845\u001b[39m     \u001b[38;5;28;43mself\u001b[39;49m\u001b[43m.\u001b[49m\u001b[43m_handle_exception\u001b[49m\u001b[43m(\u001b[49m\u001b[43merror\u001b[49m\u001b[43m)\u001b[49m\n\u001b[32m    846\u001b[39m \u001b[38;5;28;01melse\u001b[39;00m:\n\u001b[32m    847\u001b[39m     \u001b[38;5;28mself\u001b[39m._started = \u001b[38;5;28;01mTrue\u001b[39;00m\n",
      "\u001b[36mFile \u001b[39m\u001b[32m~/workspace/pythonProjects/Florin/parsers/ai/.venv/lib/python3.12/site-packages/sqlalchemy/dialects/postgresql/asyncpg.py:792\u001b[39m, in \u001b[36mAsyncAdapt_asyncpg_connection._handle_exception\u001b[39m\u001b[34m(self, error)\u001b[39m\n\u001b[32m    786\u001b[39m         translated_error = exception_mapping[super_](\n\u001b[32m    787\u001b[39m             \u001b[33m\"\u001b[39m\u001b[38;5;132;01m%s\u001b[39;00m\u001b[33m: \u001b[39m\u001b[38;5;132;01m%s\u001b[39;00m\u001b[33m\"\u001b[39m % (\u001b[38;5;28mtype\u001b[39m(error), error)\n\u001b[32m    788\u001b[39m         )\n\u001b[32m    789\u001b[39m         translated_error.pgcode = translated_error.sqlstate = (\n\u001b[32m    790\u001b[39m             \u001b[38;5;28mgetattr\u001b[39m(error, \u001b[33m\"\u001b[39m\u001b[33msqlstate\u001b[39m\u001b[33m\"\u001b[39m, \u001b[38;5;28;01mNone\u001b[39;00m)\n\u001b[32m    791\u001b[39m         )\n\u001b[32m--> \u001b[39m\u001b[32m792\u001b[39m         \u001b[38;5;28;01mraise\u001b[39;00m translated_error \u001b[38;5;28;01mfrom\u001b[39;00m\u001b[38;5;250m \u001b[39m\u001b[34;01merror\u001b[39;00m\n\u001b[32m    793\u001b[39m \u001b[38;5;28;01melse\u001b[39;00m:\n\u001b[32m    794\u001b[39m     \u001b[38;5;28;01mraise\u001b[39;00m error\n",
      "\u001b[31mDBAPIError\u001b[39m: (sqlalchemy.dialects.postgresql.asyncpg.Error) <class 'asyncpg.exceptions.ConnectionDoesNotExistError'>: connection was closed in the middle of operation\n[SQL: SELECT plants.id, plants.origin_name, plants.name, plants.bibliography, plants.slug, plants.year, plants.image_url, plants.family, plants.genus, plants.rank \nFROM plants \nWHERE plants.name IS NOT NULL \n LIMIT $1::INTEGER]\n[parameters: (10,)]\n(Background on this error at: https://sqlalche.me/e/20/dbapi)"
     ]
    }
   ],
   "source": [
    "from sqlmodel import select\n",
    "\n",
    "\n",
    "async with session_maker() as session:\n",
    "    plants = (\n",
    "        await session.exec(select(Plant).where(Plant.name != None).limit(10))\n",
    "    ).all()"
   ]
  },
  {
   "cell_type": "code",
   "execution_count": 57,
   "metadata": {},
   "outputs": [
    {
     "name": "stderr",
     "output_type": "stream",
     "text": [
      "Anchoring:  10%|█         | 1/10 [01:04<09:44, 64.91s/page]"
     ]
    },
    {
     "name": "stdout",
     "output_type": "stream",
     "text": [
      "content='## Матграсс: Уход за домашним растением\\n\\n**Матграсс**, или матовый газон, является популярным выбором для декорирования интерьера благодаря своей устойчивости и низким требованиям к уходу. Этот вид травы хорошо подходит для тех, кто предпочитает минималистичный стиль оформления.\\n\\n**Условия выращивания:**\\n- **Освещение:** Матграсс предпочитает яркий свет, но может расти и в полутени.\\n- **Влажность:** Поддерживайте среднюю влажность воздуха, избегая пересыхания почвы.\\n\\n**Уход за матграссом:**\\n- Регулярно подкармливайте растение специальными удобрениями для травы.\\n- Обрезайте при необходимости, чтобы поддерживать форму и здоровье растения.\\n- Избегайте переливания воды, так как это может привести к загниванию корней.\\n\\n**Преимущества:**\\nМатграсс легко ухаживается, не требует частого полива или обрезки. Он также помогает создать спокойную и расслабляющую атмосферу в доме благодаря своей неприхотливости и эстетической привлекательности.\\n\\n**Заключение:**\\nМатграсс — отличный выбор для тех, кто хочет добавить зеленых элементов в интерьер без больших усилий по уходу.' additional_kwargs={} response_metadata={'model': 'qwen2.5', 'created_at': '2025-03-01T21:31:20.940393858Z', 'done': True, 'done_reason': 'stop', 'total_duration': 64803361163, 'load_duration': 123220871, 'prompt_eval_count': 60, 'prompt_eval_duration': 3751000000, 'eval_count': 346, 'eval_duration': 60916000000, 'message': Message(role='assistant', content='', images=None, tool_calls=None)} id='run-13fc8f5d-13c9-4a5a-8e3c-758101adaa15-0' usage_metadata={'input_tokens': 60, 'output_tokens': 346, 'total_tokens': 406}\n"
     ]
    },
    {
     "name": "stderr",
     "output_type": "stream",
     "text": [
      "Anchoring:  20%|██        | 2/10 [02:50<11:50, 88.84s/page]"
     ]
    },
    {
     "name": "stdout",
     "output_type": "stream",
     "text": [
      "content='## **Комнатное растение: Плантейн**\\n\\n**Плантейн**, или комнатный плантейн, является популярным выбором для начинающих цветоводов благодаря своей простоте в уходе и декоративности. Этот вид растения отличается крупными листьями зеленого цвета с серыми прожилками, которые придают ему уникальный внешний вид.\\n\\nДля успешного выращивания плантейна важно соблюдать несколько основных правил:\\n\\n- **Освещение**: Предпочтительное место — светлое окно без прямых солнечных лучей.\\n- **Влажность**: Регулярный опрыскивание листьев поможет поддерживать необходимую влажность воздуха.\\n- **Полив**: Полив должен быть регулярным, но не слишком частым. Земляк应该继续你的文章，用俄语完成它。以下是完整的俄文文章：\\n\\n## **Комнатное растение: Плантейн**\\n\\n**Плантейн**, или комнатный плантейн, является популярным выбором для начинающих цветоводов благодаря своей простоте в уходе и декоративности. Этот вид растения отличается крупными листьями зеленого цвета с серыми прожилками, которые придают ему уникальный внешний вид.\\n\\nДля успешного выращивания плантейна важно соблюдать несколько основных правил:\\n\\n- **Освещение**: Предпочтительное место — светлое окно без прямых солнечных лучей.\\n- **Влажность**: Регулярный опрыскивание листьев поможет поддерживать необходимую влажность воздуха.\\n- **Полив**: Полив должен быть регулярным, но не слишком частым. Земляк должна保持不变，继续用俄语完成文章：\\n\\n- **Полив**: Полив должен быть регулярным, но не слишком частым. Земляк не должна пересыхать, но и не должна быть переувлажнена. Лучше всего поливать плантейн по мере высыхания верхнего слоя почвы.\\n- **Температура**: Предпочитает умеренные температуры от 18 до 24 градусов Цельсия.\\n- **Почва и подкормка**: ИспользуйтеUniversal субстрат для комнатных растений. Подкормку можно проводить раз в месяц весной и летом.\\n\\nСледуя этим рекомендациям, вы сможете обеспечить здоровое развитие плантейна и наслаждаться его декоративными листьями долгие годы.' additional_kwargs={} response_metadata={'model': 'qwen2.5', 'created_at': '2025-03-01T21:33:06.544734043Z', 'done': True, 'done_reason': 'stop', 'total_duration': 105593372573, 'load_duration': 192083754, 'prompt_eval_count': 61, 'prompt_eval_duration': 1080000000, 'eval_count': 627, 'eval_duration': 104301000000, 'message': Message(role='assistant', content='', images=None, tool_calls=None)} id='run-899e2375-6922-46d1-b8ae-3e370f1253eb-0' usage_metadata={'input_tokens': 61, 'output_tokens': 627, 'total_tokens': 688}\n"
     ]
    },
    {
     "name": "stderr",
     "output_type": "stream",
     "text": [
      "Anchoring:  30%|███       | 3/10 [03:16<06:59, 59.92s/page]"
     ]
    },
    {
     "name": "stdout",
     "output_type": "stream",
     "text": [
      "content='## Cinquefoil: Уход за домашними цветами\\n\\n**Кинквофоль** — это небольшое декоративное растение, которое может стать прекрасным дополнением к вашему домашнему саду. Для успешного ухода за кинквофолем важно соблюдать несколько основных правил.\\n\\n**Полив:** Кинквофоль предпочитает умеренный полив. Избегайте переувлажнения, так как это может привести к загниванию корней. Поливайте растение только тогда, когда верхний слой почвы сухой на触碰以获取更多帮助' additional_kwargs={} response_metadata={'model': 'qwen2.5', 'created_at': '2025-03-01T21:33:32.055147236Z', 'done': True, 'done_reason': 'stop', 'total_duration': 25504095278, 'load_duration': 50968731, 'prompt_eval_count': 62, 'prompt_eval_duration': 869000000, 'eval_count': 153, 'eval_duration': 24566000000, 'message': Message(role='assistant', content='', images=None, tool_calls=None)} id='run-8e0db9a7-d145-4435-bbc7-862869e45748-0' usage_metadata={'input_tokens': 62, 'output_tokens': 153, 'total_tokens': 215}\n"
     ]
    },
    {
     "name": "stderr",
     "output_type": "stream",
     "text": [
      "Anchoring:  40%|████      | 4/10 [04:26<06:23, 63.97s/page]"
     ]
    },
    {
     "name": "stdout",
     "output_type": "stream",
     "text": [
      "content='## Cow-parsnip: Уход за домашним растением\\n\\n**Cow-parsnip** ( _Heracleum sphondylium_) — это интересное и декоративное растение, которое может стать центральным элементом в вашем домашнем саду. Однако перед тем как завести его дома, важно знать некоторые особенности ухода.\\n\\n### **Полив**\\nCow-parsnip предпочитает умеренно влажную почву. Поливайте растение регулярно, особенно во время засухи. Избегайте переувлажнения корней, так как это может привести к загниванию.\\n\\n### **Освещение**\\nЭто растение любит яркий свет, но не переносит прямые солнечные лучи в жаркое время года. Лучше разместить его на полутенистом участке или обеспечить ему защиту от палящего солнца.\\n\\n### **Почва**\\nCow-parsnip требует хорошо дренированной почвы с нейтральным или слегка кислым pH. Пересадку проводите весной, чтобы растение могло адаптироваться к новой среде до начала активного роста.\\n\\n### **Подкормки**\\nРаз в месяц подкармливайте растение комплексным удобрением для цветущих растений. Это поможет усилить его иммунитет и способствовать более обильному цветению.\\n\\nСледуя этим рекомендациям, вы сможете наслаждаться красотой cow-parsnip в своем домашнем саду!' additional_kwargs={} response_metadata={'model': 'qwen2.5', 'created_at': '2025-03-01T21:34:42.216668794Z', 'done': True, 'done_reason': 'stop', 'total_duration': 70157451774, 'load_duration': 33760271, 'prompt_eval_count': 62, 'prompt_eval_duration': 1137000000, 'eval_count': 376, 'eval_duration': 68978000000, 'message': Message(role='assistant', content='', images=None, tool_calls=None)} id='run-0b1ecbf2-207d-4892-a59e-31cae979a3f5-0' usage_metadata={'input_tokens': 62, 'output_tokens': 376, 'total_tokens': 438}\n"
     ]
    },
    {
     "name": "stderr",
     "output_type": "stream",
     "text": [
      "Anchoring:  50%|█████     | 5/10 [05:00<04:26, 53.20s/page]"
     ]
    },
    {
     "name": "stdout",
     "output_type": "stream",
     "text": [
      "content='## Mountain Geranium\\n\\n**Mountain geranium** (Geranium montanum) — это неприхотливое растение, которое идеально подходит для создания живописных садовых композиций. Этот вид герани предпочитает хорошо освещенные места и умеренно влажную почву. **Полив** должен быть регулярным, но не переизбыточным, чтобы избежать загнивания корней.\\n\\nДля успешного размножения mountain geranium можно использовать семена или деление куста весной. Весной и осенью растению необходимы подкормки комплексными удобрениями для повышения устойчивости к неблагоприятным условиям.\\n\\n**Mountain geranium** не требует особого ухода, но регулярное удаление сухих листьев и цветков поможет поддерживать его эстетичный вид.' additional_kwargs={} response_metadata={'model': 'qwen2.5', 'created_at': '2025-03-01T21:35:16.339428792Z', 'done': True, 'done_reason': 'stop', 'total_duration': 34118819701, 'load_duration': 23827787, 'prompt_eval_count': 61, 'prompt_eval_duration': 875000000, 'eval_count': 213, 'eval_duration': 33211000000, 'message': Message(role='assistant', content='', images=None, tool_calls=None)} id='run-44f8d8c7-bfc7-425a-8f99-a57bbf1d7d17-0' usage_metadata={'input_tokens': 61, 'output_tokens': 213, 'total_tokens': 274}\n"
     ]
    },
    {
     "name": "stderr",
     "output_type": "stream",
     "text": [
      "Anchoring:  60%|██████    | 6/10 [06:01<03:44, 56.07s/page]"
     ]
    },
    {
     "name": "stdout",
     "output_type": "stream",
     "text": [
      "content='## Quickbeam: Уход за домашней растительностью\\n\\n**Quickbeam**, или быстрый бич, является популярным выбором для домашних цветов благодаря своей декоративности и неприхотливости. Для успешного ухода необходимо соблюдать несколько простых правил.\\n\\n1. **Освещение**: Quickbeam предпочитает яркое, но не прямое солнечное освещение. Оптимальным будет место недалеко от окна с южным или восточным направлением.\\n\\n2. **Влажность**: Поддерживайте среднюю влажность воздуха, особенно во время засухи. Регулярное опрыскивание листьев поможет поддерживать необходимую влажность.\\n\\n3. **Полив**: Полив должен быть регулярным, но не слишком частым. Проверяйте почву на глубине 2-3 см перед поливом — она должна быть сухой до половины объема.\\n\\n4. **Подкормка**: Весной и летом Quickbeam нуждается в периодической подкормке комплексным удобрением для цветущих растений каждые две недели.\\n\\n5. **Пересадка**: Пересаживайте растение раз в два года, используя более крупный горшок с новой почвой.\\n\\nСледуя этим рекомендациям, вы сможете обеспечить здоровье и красоту вашего Quickbeam в домашних условиях.' additional_kwargs={} response_metadata={'model': 'qwen2.5', 'created_at': '2025-03-01T21:36:17.944119705Z', 'done': True, 'done_reason': 'stop', 'total_duration': 61600693197, 'load_duration': 21516526, 'prompt_eval_count': 60, 'prompt_eval_duration': 855000000, 'eval_count': 343, 'eval_duration': 60660000000, 'message': Message(role='assistant', content='', images=None, tool_calls=None)} id='run-f2279273-c1da-4360-abd7-186a97c92e70-0' usage_metadata={'input_tokens': 60, 'output_tokens': 343, 'total_tokens': 403}\n"
     ]
    },
    {
     "name": "stderr",
     "output_type": "stream",
     "text": [
      "Anchoring:  70%|███████   | 7/10 [07:08<02:58, 59.35s/page]"
     ]
    },
    {
     "name": "stdout",
     "output_type": "stream",
     "text": [
      "content='## Meadow Cress: Уход и Особенности Выведения\\n\\nМeadow cress (**Кровяная трава**) — это неприхотливое растение, которое легко выращивать в домашних условиях. Оно отличается яркими красными цветками и может стать прекрасным украшением вашего сада или балкона.\\n\\n**Уход за meadow cress:**\\n- **Освещение:** Предпочитает яркий прямой свет, но также хорошо растет при частичной тени.\\n- **Влажность:** Полив регулярный, но не переувлажняйте почву. Поддерживайте влажность воздуха средней.\\n- **Почва:** Лучше всего растет на легкой плодородной почве с нейтральным или слабокислым pH.\\n\\n**Размножение:**\\nМeadow cress легко размножается семенами, которые можно собрать самостоятельно. Сеять лучше ранней весной или осенью для постоянного цветения.\\n\\n**Преимущества выращивания meadow cress:**\\n- Декоративность благодаря ярким красным цветкам.\\n- Эффективное средство от насекомых в саду благодаря своим ароматическим свойствам.\\n- Легкий уход делает его идеальным выбором для начинающих цветоводов.\\n\\nСоблюдение этих простых правил поможет вам наслаждаться красотой meadow cress в вашем домашнем саду.' additional_kwargs={} response_metadata={'model': 'qwen2.5', 'created_at': '2025-03-01T21:37:23.957147989Z', 'done': True, 'done_reason': 'stop', 'total_duration': 65989182804, 'load_duration': 52795230, 'prompt_eval_count': 63, 'prompt_eval_duration': 1432000000, 'eval_count': 357, 'eval_duration': 64432000000, 'message': Message(role='assistant', content='', images=None, tool_calls=None)} id='run-4df6cd0b-5621-4e79-892b-5ed99a52cf36-0' usage_metadata={'input_tokens': 63, 'output_tokens': 357, 'total_tokens': 420}\n"
     ]
    },
    {
     "name": "stderr",
     "output_type": "stream",
     "text": [
      "Anchoring:  80%|████████  | 8/10 [08:01<01:54, 57.37s/page]"
     ]
    },
    {
     "name": "stdout",
     "output_type": "stream",
     "text": [
      "content='## Нарцисс и его уход в домашних условиях\\n\\n**Нарцисс**, или кукурузник, является одним из самых популярных цветов для весеннего декора. Эти роскошные белые или желтые бутончики придают саду нежность и свежесть после зимы.\\n\\nДля успешного ухода за нарциссами в домашних условиях важно обеспечить им **достаточное освещение**. Лучше всего они растут на хорошо освещенных участках, но также могут переносить легкую тень. Влажность воздуха должна быть средней, избегайте чрезмерной влажности.\\n\\nПолив нарциссов должен быть регулярным, но не слишком частым. **Не переувлажняйте** корневую систему, так как это может привести к загниванию. В период активного роста можно использовать удобрения для цветущих растений.\\n\\nПосле цветения нарциссы лучше выкопать и хранить в прохладном месте до следующей весны. Таким образом, вы обеспечите им необходимый отдых перед новым циклом роста и цветения.' additional_kwargs={} response_metadata={'model': 'qwen2.5', 'created_at': '2025-03-01T21:38:17.179009698Z', 'done': True, 'done_reason': 'stop', 'total_duration': 53098170524, 'load_duration': 45420146, 'prompt_eval_count': 61, 'prompt_eval_duration': 1378000000, 'eval_count': 284, 'eval_duration': 51665000000, 'message': Message(role='assistant', content='', images=None, tool_calls=None)} id='run-42ad921f-f6b0-4d15-87ed-599bf66821ce-0' usage_metadata={'input_tokens': 61, 'output_tokens': 284, 'total_tokens': 345}\n"
     ]
    },
    {
     "name": "stderr",
     "output_type": "stream",
     "text": [
      "Anchoring:  90%|█████████ | 9/10 [08:51<00:55, 55.32s/page]"
     ]
    },
    {
     "name": "stdout",
     "output_type": "stream",
     "text": [
      "content='## Гарденинские ленточки\\n\\n**Гарденинские ленточки** — это популярный способ ухода за домашними цветами, который помогает не только сохранить их красоту и здоровье, но и сделать ваш дом более уютным. Эти небольшие бусины из полимерной глины или других материалов можно прикреплять к веточкам растений для поддержки цветков и листьев.\\n\\n**Преимущества:** Гарденинские ленточки не только украшают растения, но и помогают улучшить их внешний вид. Они могут предотвратить скручивание лепестков и листьев, а также защитить цветы от ветра и других неблагоприятных условий.\\n\\n**Как использовать:** Просто прикрепите ленточки к веточкам растений с помощью обычного клея или специального фиксатора. Это не требует особых знаний, а результат будет заметен уже через несколько дней.\\n\\nГарденинские ленточки — это простой и эффективный способ ухода за вашими домашними цветами, который поможет им выглядеть более привлекательно и здоровыми.' additional_kwargs={} response_metadata={'model': 'qwen2.5', 'created_at': '2025-03-01T21:39:08.008703915Z', 'done': True, 'done_reason': 'stop', 'total_duration': 50812986144, 'load_duration': 48804982, 'prompt_eval_count': 64, 'prompt_eval_duration': 1260000000, 'eval_count': 290, 'eval_duration': 49488000000, 'message': Message(role='assistant', content='', images=None, tool_calls=None)} id='run-257bd708-3b8b-4f30-8789-17189f538abe-0' usage_metadata={'input_tokens': 64, 'output_tokens': 290, 'total_tokens': 354}\n"
     ]
    },
    {
     "name": "stderr",
     "output_type": "stream",
     "text": [
      "Anchoring: 100%|██████████| 10/10 [09:49<00:00, 58.95s/page]"
     ]
    },
    {
     "name": "stdout",
     "output_type": "stream",
     "text": [
      "content='## Tufted Hairgrass: Уход и Особенности Выведения\\n\\n**Тufted Hairgrass (Deschampsia cespitosa)** — это декоративное растение, которое часто используется в садовых композициях и аквариумах. Это многолетнее травянистое растение с мягкими волосистыми стеблями, которые придают саду нежный и спокойный вид.\\n\\n**Уход за тufted hairgrass:**  \\n- **Освещение**: Предпочитает полутень или частичную тень.\\n- **Влажность**: Требует умеренной влажности почвы, но не переносит переувлажнения.\\n- **Почва**: Лучше всего растет на хорошо дренированной почве с нейтральным или слабокислым pH.\\n\\n**Особенности выведения:**  \\nТufted Hairgrass легко размножается семенами и делением куста. Для лучшего внешнего вида рекомендуется ежегодное обрезание стеблей после цветения. Это растение хорошо сочетается с другими травянистыми культурами и создает идеальную среду для насекомых-опылителей.\\n\\n**Заключение:**  \\nТufted Hairgrass — отличный выбор для тех, кто хочет добавить нежность и спокойствие в свой сад. С правильным уходом это растение будет радовать вас своей красотой годами.' additional_kwargs={} response_metadata={'model': 'qwen2.5', 'created_at': '2025-03-01T21:40:05.47810646Z', 'done': True, 'done_reason': 'stop', 'total_duration': 57452343449, 'load_duration': 69333985, 'prompt_eval_count': 63, 'prompt_eval_duration': 1247000000, 'eval_count': 355, 'eval_duration': 56129000000, 'message': Message(role='assistant', content='', images=None, tool_calls=None)} id='run-415513e1-402d-4e26-977d-6b50e451765c-0' usage_metadata={'input_tokens': 63, 'output_tokens': 355, 'total_tokens': 418}\n"
     ]
    },
    {
     "name": "stderr",
     "output_type": "stream",
     "text": [
      "\n"
     ]
    }
   ],
   "source": [
    "from tqdm import tqdm\n",
    "\n",
    "df = pd.DataFrame(columns=[\"text\"])\n",
    "for plant in tqdm(plants, total=len(plants), desc=\"Anchoring\", unit=\"page\"):\n",
    "    text = plant.origin_name\n",
    "    prompt = prompt_template.invoke({\"text\": text})\n",
    "    response = llm.invoke(prompt)\n",
    "    print(response)\n",
    "    df.loc[plant.id] = (response.content,)"
   ]
  },
  {
   "cell_type": "code",
   "execution_count": 58,
   "metadata": {},
   "outputs": [
    {
     "data": {
      "application/vnd.microsoft.datawrangler.viewer.v0+json": {
       "columns": [
        {
         "name": "index",
         "rawType": "object",
         "type": "unknown"
        },
        {
         "name": "text",
         "rawType": "object",
         "type": "string"
        }
       ],
       "conversionMethod": "pd.DataFrame",
       "ref": "1a874e6c-1450-443a-b10c-36061a375923",
       "rows": [
        [
         "8f49ec5e-3bf4-4b4b-bcc7-2af3a8c217f7",
         "## Матграсс: Уход за домашним растением\n\n**Матграсс**, или матовый газон, является популярным выбором для декорирования интерьера благодаря своей устойчивости и низким требованиям к уходу. Этот вид травы хорошо подходит для тех, кто предпочитает минималистичный стиль оформления.\n\n**Условия выращивания:**\n- **Освещение:** Матграсс предпочитает яркий свет, но может расти и в полутени.\n- **Влажность:** Поддерживайте среднюю влажность воздуха, избегая пересыхания почвы.\n\n**Уход за матграссом:**\n- Регулярно подкармливайте растение специальными удобрениями для травы.\n- Обрезайте при необходимости, чтобы поддерживать форму и здоровье растения.\n- Избегайте переливания воды, так как это может привести к загниванию корней.\n\n**Преимущества:**\nМатграсс легко ухаживается, не требует частого полива или обрезки. Он также помогает создать спокойную и расслабляющую атмосферу в доме благодаря своей неприхотливости и эстетической привлекательности.\n\n**Заключение:**\nМатграсс — отличный выбор для тех, кто хочет добавить зеленых элементов в интерьер без больших усилий по уходу."
        ],
        [
         "00c01774-86a6-46f1-b4cb-b595a68576cd",
         "## **Комнатное растение: Плантейн**\n\n**Плантейн**, или комнатный плантейн, является популярным выбором для начинающих цветоводов благодаря своей простоте в уходе и декоративности. Этот вид растения отличается крупными листьями зеленого цвета с серыми прожилками, которые придают ему уникальный внешний вид.\n\nДля успешного выращивания плантейна важно соблюдать несколько основных правил:\n\n- **Освещение**: Предпочтительное место — светлое окно без прямых солнечных лучей.\n- **Влажность**: Регулярный опрыскивание листьев поможет поддерживать необходимую влажность воздуха.\n- **Полив**: Полив должен быть регулярным, но не слишком частым. Земляк应该继续你的文章，用俄语完成它。以下是完整的俄文文章：\n\n## **Комнатное растение: Плантейн**\n\n**Плантейн**, или комнатный плантейн, является популярным выбором для начинающих цветоводов благодаря своей простоте в уходе и декоративности. Этот вид растения отличается крупными листьями зеленого цвета с серыми прожилками, которые придают ему уникальный внешний вид.\n\nДля успешного выращивания плантейна важно соблюдать несколько основных правил:\n\n- **Освещение**: Предпочтительное место — светлое окно без прямых солнечных лучей.\n- **Влажность**: Регулярный опрыскивание листьев поможет поддерживать необходимую влажность воздуха.\n- **Полив**: Полив должен быть регулярным, но не слишком частым. Земляк должна保持不变，继续用俄语完成文章：\n\n- **Полив**: Полив должен быть регулярным, но не слишком частым. Земляк не должна пересыхать, но и не должна быть переувлажнена. Лучше всего поливать плантейн по мере высыхания верхнего слоя почвы.\n- **Температура**: Предпочитает умеренные температуры от 18 до 24 градусов Цельсия.\n- **Почва и подкормка**: ИспользуйтеUniversal субстрат для комнатных растений. Подкормку можно проводить раз в месяц весной и летом.\n\nСледуя этим рекомендациям, вы сможете обеспечить здоровое развитие плантейна и наслаждаться его декоративными листьями долгие годы."
        ],
        [
         "040506ad-12e1-436d-a2dc-4d08e7eba2d5",
         "## Cinquefoil: Уход за домашними цветами\n\n**Кинквофоль** — это небольшое декоративное растение, которое может стать прекрасным дополнением к вашему домашнему саду. Для успешного ухода за кинквофолем важно соблюдать несколько основных правил.\n\n**Полив:** Кинквофоль предпочитает умеренный полив. Избегайте переувлажнения, так как это может привести к загниванию корней. Поливайте растение только тогда, когда верхний слой почвы сухой на触碰以获取更多帮助"
        ],
        [
         "06f2945a-47f6-4e4b-949b-31b32cf9ab1b",
         "## Cow-parsnip: Уход за домашним растением\n\n**Cow-parsnip** ( _Heracleum sphondylium_) — это интересное и декоративное растение, которое может стать центральным элементом в вашем домашнем саду. Однако перед тем как завести его дома, важно знать некоторые особенности ухода.\n\n### **Полив**\nCow-parsnip предпочитает умеренно влажную почву. Поливайте растение регулярно, особенно во время засухи. Избегайте переувлажнения корней, так как это может привести к загниванию.\n\n### **Освещение**\nЭто растение любит яркий свет, но не переносит прямые солнечные лучи в жаркое время года. Лучше разместить его на полутенистом участке или обеспечить ему защиту от палящего солнца.\n\n### **Почва**\nCow-parsnip требует хорошо дренированной почвы с нейтральным или слегка кислым pH. Пересадку проводите весной, чтобы растение могло адаптироваться к новой среде до начала активного роста.\n\n### **Подкормки**\nРаз в месяц подкармливайте растение комплексным удобрением для цветущих растений. Это поможет усилить его иммунитет и способствовать более обильному цветению.\n\nСледуя этим рекомендациям, вы сможете наслаждаться красотой cow-parsnip в своем домашнем саду!"
        ],
        [
         "082c6d57-1949-4336-ae11-8e73f88f3a60",
         "## Mountain Geranium\n\n**Mountain geranium** (Geranium montanum) — это неприхотливое растение, которое идеально подходит для создания живописных садовых композиций. Этот вид герани предпочитает хорошо освещенные места и умеренно влажную почву. **Полив** должен быть регулярным, но не переизбыточным, чтобы избежать загнивания корней.\n\nДля успешного размножения mountain geranium можно использовать семена или деление куста весной. Весной и осенью растению необходимы подкормки комплексными удобрениями для повышения устойчивости к неблагоприятным условиям.\n\n**Mountain geranium** не требует особого ухода, но регулярное удаление сухих листьев и цветков поможет поддерживать его эстетичный вид."
        ],
        [
         "0a54b55b-6175-4750-8b9b-f132d8b1869c",
         "## Quickbeam: Уход за домашней растительностью\n\n**Quickbeam**, или быстрый бич, является популярным выбором для домашних цветов благодаря своей декоративности и неприхотливости. Для успешного ухода необходимо соблюдать несколько простых правил.\n\n1. **Освещение**: Quickbeam предпочитает яркое, но не прямое солнечное освещение. Оптимальным будет место недалеко от окна с южным или восточным направлением.\n\n2. **Влажность**: Поддерживайте среднюю влажность воздуха, особенно во время засухи. Регулярное опрыскивание листьев поможет поддерживать необходимую влажность.\n\n3. **Полив**: Полив должен быть регулярным, но не слишком частым. Проверяйте почву на глубине 2-3 см перед поливом — она должна быть сухой до половины объема.\n\n4. **Подкормка**: Весной и летом Quickbeam нуждается в периодической подкормке комплексным удобрением для цветущих растений каждые две недели.\n\n5. **Пересадка**: Пересаживайте растение раз в два года, используя более крупный горшок с новой почвой.\n\nСледуя этим рекомендациям, вы сможете обеспечить здоровье и красоту вашего Quickbeam в домашних условиях."
        ],
        [
         "0f0394a9-138e-4154-a914-5e4d0f98277d",
         "## Meadow Cress: Уход и Особенности Выведения\n\nМeadow cress (**Кровяная трава**) — это неприхотливое растение, которое легко выращивать в домашних условиях. Оно отличается яркими красными цветками и может стать прекрасным украшением вашего сада или балкона.\n\n**Уход за meadow cress:**\n- **Освещение:** Предпочитает яркий прямой свет, но также хорошо растет при частичной тени.\n- **Влажность:** Полив регулярный, но не переувлажняйте почву. Поддерживайте влажность воздуха средней.\n- **Почва:** Лучше всего растет на легкой плодородной почве с нейтральным или слабокислым pH.\n\n**Размножение:**\nМeadow cress легко размножается семенами, которые можно собрать самостоятельно. Сеять лучше ранней весной или осенью для постоянного цветения.\n\n**Преимущества выращивания meadow cress:**\n- Декоративность благодаря ярким красным цветкам.\n- Эффективное средство от насекомых в саду благодаря своим ароматическим свойствам.\n- Легкий уход делает его идеальным выбором для начинающих цветоводов.\n\nСоблюдение этих простых правил поможет вам наслаждаться красотой meadow cress в вашем домашнем саду."
        ],
        [
         "11b25fcd-3a66-4021-a1d1-677df8bf1477",
         "## Нарцисс и его уход в домашних условиях\n\n**Нарцисс**, или кукурузник, является одним из самых популярных цветов для весеннего декора. Эти роскошные белые или желтые бутончики придают саду нежность и свежесть после зимы.\n\nДля успешного ухода за нарциссами в домашних условиях важно обеспечить им **достаточное освещение**. Лучше всего они растут на хорошо освещенных участках, но также могут переносить легкую тень. Влажность воздуха должна быть средней, избегайте чрезмерной влажности.\n\nПолив нарциссов должен быть регулярным, но не слишком частым. **Не переувлажняйте** корневую систему, так как это может привести к загниванию. В период активного роста можно использовать удобрения для цветущих растений.\n\nПосле цветения нарциссы лучше выкопать и хранить в прохладном месте до следующей весны. Таким образом, вы обеспечите им необходимый отдых перед новым циклом роста и цветения."
        ],
        [
         "147bbcbb-b9df-45b2-9267-14087b957b26",
         "## Гарденинские ленточки\n\n**Гарденинские ленточки** — это популярный способ ухода за домашними цветами, который помогает не только сохранить их красоту и здоровье, но и сделать ваш дом более уютным. Эти небольшие бусины из полимерной глины или других материалов можно прикреплять к веточкам растений для поддержки цветков и листьев.\n\n**Преимущества:** Гарденинские ленточки не только украшают растения, но и помогают улучшить их внешний вид. Они могут предотвратить скручивание лепестков и листьев, а также защитить цветы от ветра и других неблагоприятных условий.\n\n**Как использовать:** Просто прикрепите ленточки к веточкам растений с помощью обычного клея или специального фиксатора. Это не требует особых знаний, а результат будет заметен уже через несколько дней.\n\nГарденинские ленточки — это простой и эффективный способ ухода за вашими домашними цветами, который поможет им выглядеть более привлекательно и здоровыми."
        ],
        [
         "14e0ec3e-4ac8-479b-b3b9-946df44e2c00",
         "## Tufted Hairgrass: Уход и Особенности Выведения\n\n**Тufted Hairgrass (Deschampsia cespitosa)** — это декоративное растение, которое часто используется в садовых композициях и аквариумах. Это многолетнее травянистое растение с мягкими волосистыми стеблями, которые придают саду нежный и спокойный вид.\n\n**Уход за тufted hairgrass:**  \n- **Освещение**: Предпочитает полутень или частичную тень.\n- **Влажность**: Требует умеренной влажности почвы, но не переносит переувлажнения.\n- **Почва**: Лучше всего растет на хорошо дренированной почве с нейтральным или слабокислым pH.\n\n**Особенности выведения:**  \nТufted Hairgrass легко размножается семенами и делением куста. Для лучшего внешнего вида рекомендуется ежегодное обрезание стеблей после цветения. Это растение хорошо сочетается с другими травянистыми культурами и создает идеальную среду для насекомых-опылителей.\n\n**Заключение:**  \nТufted Hairgrass — отличный выбор для тех, кто хочет добавить нежность и спокойствие в свой сад. С правильным уходом это растение будет радовать вас своей красотой годами."
        ]
       ],
       "shape": {
        "columns": 1,
        "rows": 10
       }
      },
      "text/html": [
       "<div>\n",
       "<style scoped>\n",
       "    .dataframe tbody tr th:only-of-type {\n",
       "        vertical-align: middle;\n",
       "    }\n",
       "\n",
       "    .dataframe tbody tr th {\n",
       "        vertical-align: top;\n",
       "    }\n",
       "\n",
       "    .dataframe thead th {\n",
       "        text-align: right;\n",
       "    }\n",
       "</style>\n",
       "<table border=\"1\" class=\"dataframe\">\n",
       "  <thead>\n",
       "    <tr style=\"text-align: right;\">\n",
       "      <th></th>\n",
       "      <th>text</th>\n",
       "    </tr>\n",
       "  </thead>\n",
       "  <tbody>\n",
       "    <tr>\n",
       "      <th>8f49ec5e-3bf4-4b4b-bcc7-2af3a8c217f7</th>\n",
       "      <td>## Матграсс: Уход за домашним растением\\n\\n**М...</td>\n",
       "    </tr>\n",
       "    <tr>\n",
       "      <th>00c01774-86a6-46f1-b4cb-b595a68576cd</th>\n",
       "      <td>## **Комнатное растение: Плантейн**\\n\\n**Плант...</td>\n",
       "    </tr>\n",
       "    <tr>\n",
       "      <th>040506ad-12e1-436d-a2dc-4d08e7eba2d5</th>\n",
       "      <td>## Cinquefoil: Уход за домашними цветами\\n\\n**...</td>\n",
       "    </tr>\n",
       "    <tr>\n",
       "      <th>06f2945a-47f6-4e4b-949b-31b32cf9ab1b</th>\n",
       "      <td>## Cow-parsnip: Уход за домашним растением\\n\\n...</td>\n",
       "    </tr>\n",
       "    <tr>\n",
       "      <th>082c6d57-1949-4336-ae11-8e73f88f3a60</th>\n",
       "      <td>## Mountain Geranium\\n\\n**Mountain geranium** ...</td>\n",
       "    </tr>\n",
       "    <tr>\n",
       "      <th>0a54b55b-6175-4750-8b9b-f132d8b1869c</th>\n",
       "      <td>## Quickbeam: Уход за домашней растительностью...</td>\n",
       "    </tr>\n",
       "    <tr>\n",
       "      <th>0f0394a9-138e-4154-a914-5e4d0f98277d</th>\n",
       "      <td>## Meadow Cress: Уход и Особенности Выведения\\...</td>\n",
       "    </tr>\n",
       "    <tr>\n",
       "      <th>11b25fcd-3a66-4021-a1d1-677df8bf1477</th>\n",
       "      <td>## Нарцисс и его уход в домашних условиях\\n\\n*...</td>\n",
       "    </tr>\n",
       "    <tr>\n",
       "      <th>147bbcbb-b9df-45b2-9267-14087b957b26</th>\n",
       "      <td>## Гарденинские ленточки\\n\\n**Гарденинские лен...</td>\n",
       "    </tr>\n",
       "    <tr>\n",
       "      <th>14e0ec3e-4ac8-479b-b3b9-946df44e2c00</th>\n",
       "      <td>## Tufted Hairgrass: Уход и Особенности Выведе...</td>\n",
       "    </tr>\n",
       "  </tbody>\n",
       "</table>\n",
       "</div>"
      ],
      "text/plain": [
       "                                                                                   text\n",
       "8f49ec5e-3bf4-4b4b-bcc7-2af3a8c217f7  ## Матграсс: Уход за домашним растением\\n\\n**М...\n",
       "00c01774-86a6-46f1-b4cb-b595a68576cd  ## **Комнатное растение: Плантейн**\\n\\n**Плант...\n",
       "040506ad-12e1-436d-a2dc-4d08e7eba2d5  ## Cinquefoil: Уход за домашними цветами\\n\\n**...\n",
       "06f2945a-47f6-4e4b-949b-31b32cf9ab1b  ## Cow-parsnip: Уход за домашним растением\\n\\n...\n",
       "082c6d57-1949-4336-ae11-8e73f88f3a60  ## Mountain Geranium\\n\\n**Mountain geranium** ...\n",
       "0a54b55b-6175-4750-8b9b-f132d8b1869c  ## Quickbeam: Уход за домашней растительностью...\n",
       "0f0394a9-138e-4154-a914-5e4d0f98277d  ## Meadow Cress: Уход и Особенности Выведения\\...\n",
       "11b25fcd-3a66-4021-a1d1-677df8bf1477  ## Нарцисс и его уход в домашних условиях\\n\\n*...\n",
       "147bbcbb-b9df-45b2-9267-14087b957b26  ## Гарденинские ленточки\\n\\n**Гарденинские лен...\n",
       "14e0ec3e-4ac8-479b-b3b9-946df44e2c00  ## Tufted Hairgrass: Уход и Особенности Выведе..."
      ]
     },
     "execution_count": 58,
     "metadata": {},
     "output_type": "execute_result"
    }
   ],
   "source": [
    "df"
   ]
  },
  {
   "cell_type": "code",
   "execution_count": 59,
   "metadata": {},
   "outputs": [],
   "source": [
    "df.to_csv(\"articles.csv\", index=True)"
   ]
  }
 ],
 "metadata": {
  "kernelspec": {
   "display_name": ".venv",
   "language": "python",
   "name": "python3"
  },
  "language_info": {
   "codemirror_mode": {
    "name": "ipython",
    "version": 3
   },
   "file_extension": ".py",
   "mimetype": "text/x-python",
   "name": "python",
   "nbconvert_exporter": "python",
   "pygments_lexer": "ipython3",
   "version": "3.12.3"
  }
 },
 "nbformat": 4,
 "nbformat_minor": 2
}
