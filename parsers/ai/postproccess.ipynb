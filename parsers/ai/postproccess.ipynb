{
 "cells": [
  {
   "cell_type": "code",
   "execution_count": 2,
   "metadata": {},
   "outputs": [],
   "source": [
    "%run 'template.ipynb'"
   ]
  },
  {
   "cell_type": "code",
   "execution_count": 3,
   "metadata": {},
   "outputs": [
    {
     "data": {
      "application/vnd.microsoft.datawrangler.viewer.v0+json": {
       "columns": [
        {
         "name": "index",
         "rawType": "int64",
         "type": "integer"
        },
        {
         "name": "Unnamed: 0",
         "rawType": "object",
         "type": "string"
        },
        {
         "name": "old_name",
         "rawType": "object",
         "type": "string"
        },
        {
         "name": "new_name",
         "rawType": "object",
         "type": "unknown"
        }
       ],
       "conversionMethod": "pd.DataFrame",
       "ref": "3f2c8557-dc4e-40e4-9649-64b26b9c5c2e",
       "rows": [
        [
         "0",
         "5d58b28f-9b31-4b4a-975f-d2c065a39330",
         "Meadow brome",
         null
        ],
        [
         "1",
         "9ec5a11c-5a42-4af6-9af5-47beb0c7f169",
         "Easter-bell",
         "Весенняя колокольчик"
        ],
        [
         "2",
         "aa126c55-99ed-429f-b1ea-7204f01a21ed",
         "Field speedwell",
         "Полынь полевая"
        ],
        [
         "3",
         "eeb6a4f7-fbd3-44a3-807b-56a5bde966b4",
         "Umbrella pine",
         null
        ],
        [
         "4",
         "1da23ba2-886e-4cf8-b023-30e6ae63fe2e",
         "White cockle",
         "Белая коклюшка"
        ],
        [
         "5",
         "f5da6645-e3f6-4306-a631-6d99d39ff150",
         "Japanese knotweed",
         "Лотос японский"
        ],
        [
         "6",
         "86e02b46-613a-46eb-8341-babf5c71eb48",
         "Bulbous buttercup",
         "Луковичная крапива"
        ],
        [
         "7",
         "d3fd30e8-eb2f-46dc-baa8-e3d01c127eb3",
         "Wood violet",
         "Лесная виола"
        ],
        [
         "8",
         "c6ef394e-8777-4b96-9309-be4c739fc09a",
         "Wood germander",
         "Лесной германдер"
        ],
        [
         "9",
         "8f49ec5e-3bf4-4b4b-bcc7-2af3a8c217f7",
         "Matgrass",
         "Серыш"
        ],
        [
         "10",
         "b7e5f8c0-d04c-4282-90f8-a4c287595a5b",
         "Suckling clover",
         "Личиная трепетник"
        ],
        [
         "11",
         "6c95fbfd-0675-4077-9aec-5aaa0fffa67f",
         "Hairy sedge",
         "Волосатая тростниковая трава"
        ],
        [
         "12",
         "b2dc286a-52c2-4017-bbbf-36bba598eb14",
         "Marsh horsetail",
         "Корневищная тростниковая солома"
        ],
        [
         "13",
         "002b1f29-f62c-48a6-b672-443c8c8f087c",
         "Disc mayweed",
         null
        ],
        [
         "14",
         "33149fc7-ba45-49dc-99be-f6879441dea5",
         "Burnet-saxifrage",
         null
        ],
        [
         "15",
         "8f0b09dd-4018-4a41-9b9c-5b956b48425c",
         "Wood bluegrass",
         null
        ],
        [
         "16",
         "82987423-ff4d-4500-83de-726432b03ae1",
         "Bottle sedge",
         "Кувшинка"
        ],
        [
         "17",
         "6c8f9e0b-2a3a-465e-949c-79dcfd51987c",
         "Curlew-berry",
         "Лапчатка"
        ],
        [
         "18",
         "c967d9b8-bfc0-4c30-afe2-9f79286879d4",
         "Barley",
         "Пшеница"
        ],
        [
         "19",
         "d80db2b8-e95e-49d8-bd49-0344aef2106e",
         "Agrimony",
         "Коровяк"
        ],
        [
         "20",
         "71eee19f-ed35-464e-beaa-431b5cff12ec",
         "Evergreen oak",
         "Эвкалипт вечнозелёный"
        ],
        [
         "21",
         "11b25fcd-3a66-4021-a1d1-677df8bf1477",
         "Common nettle",
         "Обычная шершавая крапива"
        ],
        [
         "22",
         "1b4c373c-b837-4563-90f0-a76c44f22762",
         "Barnyard grass",
         null
        ],
        [
         "23",
         "d67c513e-3b7c-4b22-8ba4-49c3210f8010",
         "Narrow-leaf plantain",
         "Лиственница узколистая"
        ],
        [
         "24",
         "75480559-4aaf-431f-90f4-b11f872a2393",
         "Milfoil",
         null
        ],
        [
         "25",
         "9b200e50-c056-40fc-a339-755e73c4edde",
         "Dutch clover",
         "Голландская трепетница"
        ],
        [
         "26",
         "191471cc-1c99-440c-a4bf-bf9fd093a704",
         "Yorkshire-fog",
         null
        ],
        [
         "27",
         "393aab26-d086-49c1-afd0-0433d89767fc",
         "Creeping buttercup",
         "Крадущаяся крапива"
        ],
        [
         "28",
         "47a6fc72-38ac-466f-8952-1097ce79b086",
         "Pedunculate oak",
         null
        ],
        [
         "29",
         "0b53e9ff-e9b9-4ccb-98a6-7955195e7c93",
         "Red fescue",
         null
        ],
        [
         "30",
         "14e17b97-4427-4b9b-94f2-bebba2e0bc08",
         "European ash",
         "Дерево осина"
        ],
        [
         "31",
         "92cac1d7-af89-41fd-9dba-228510af628f",
         "California thistle",
         null
        ],
        [
         "32",
         "db30480d-23f6-42b2-8f80-151ee2765bab",
         "Cowgrass clover",
         "Коровник"
        ],
        [
         "33",
         "ed0d1529-08ef-4e20-8f03-d208b2886a1c",
         "Beech",
         null
        ],
        [
         "34",
         "e8df9a3c-d7e6-4389-b723-bc45e323f2dc",
         "Soft rush",
         null
        ],
        [
         "35",
         "260614ed-91ed-4e65-8de0-51a2bfbded75",
         "Meadow buttercup",
         null
        ],
        [
         "36",
         "ed82021a-f229-4005-84d5-9ee556e3040b",
         "Hawthorn",
         "Яблоня шиповниковая"
        ],
        [
         "37",
         "2454f4aa-7364-4a22-942a-614193c977aa",
         "Garden sorrel",
         null
        ],
        [
         "38",
         "fa73f629-14cb-4413-bb1c-2cf97cbfb363",
         "Heather",
         null
        ],
        [
         "39",
         "040a8639-1ffe-459d-9cde-87f2cae8e709",
         "Meadowsweet",
         null
        ],
        [
         "40",
         "26bcad02-4af6-41e8-aed2-39da4ad850b5",
         "European filbert",
         "Европейский филберт"
        ],
        [
         "41",
         "de999666-5307-436d-aaa9-e862b0e88fe5",
         "Ditch reed",
         "Колодник сычевой"
        ],
        [
         "42",
         "f9dd8fce-2988-4794-bea5-db1ac1ef7cc1",
         "Gill-over-the-ground",
         "Лазящая гилл"
        ],
        [
         "43",
         "42d60af6-f0eb-47b0-8bee-1ef8d51d5dca",
         "New zealand bent grass",
         "Кривошерстка новозеландская"
        ],
        [
         "44",
         "23862b1d-582d-4db0-8864-3cc209e01628",
         "Scented vernal grass",
         "Запаховый весенний табак"
        ],
        [
         "45",
         "cc71c613-c74e-422e-9575-49003de79f6c",
         "Ivy",
         "Лиана дикороса"
        ],
        [
         "46",
         "4641cf32-ccfb-440a-a2cd-fd700d968575",
         "Spreading bent",
         "Лежачая кромка"
        ],
        [
         "47",
         "00c01774-86a6-46f1-b4cb-b595a68576cd",
         "Common plantain",
         "Лиственница обыкновенная"
        ],
        [
         "48",
         "6df75569-e4e4-41af-9300-f6d48b9203fb",
         "Common bird's-foot trefoil",
         "Обычный троянский конь"
        ],
        [
         "49",
         "0a54b55b-6175-4750-8b9b-f132d8b1869c",
         "Quickbeam",
         "Быстрое дерево"
        ]
       ],
       "shape": {
        "columns": 3,
        "rows": 100
       }
      },
      "text/html": [
       "<div>\n",
       "<style scoped>\n",
       "    .dataframe tbody tr th:only-of-type {\n",
       "        vertical-align: middle;\n",
       "    }\n",
       "\n",
       "    .dataframe tbody tr th {\n",
       "        vertical-align: top;\n",
       "    }\n",
       "\n",
       "    .dataframe thead th {\n",
       "        text-align: right;\n",
       "    }\n",
       "</style>\n",
       "<table border=\"1\" class=\"dataframe\">\n",
       "  <thead>\n",
       "    <tr style=\"text-align: right;\">\n",
       "      <th></th>\n",
       "      <th>Unnamed: 0</th>\n",
       "      <th>old_name</th>\n",
       "      <th>new_name</th>\n",
       "    </tr>\n",
       "  </thead>\n",
       "  <tbody>\n",
       "    <tr>\n",
       "      <th>0</th>\n",
       "      <td>5d58b28f-9b31-4b4a-975f-d2c065a39330</td>\n",
       "      <td>Meadow brome</td>\n",
       "      <td>None</td>\n",
       "    </tr>\n",
       "    <tr>\n",
       "      <th>1</th>\n",
       "      <td>9ec5a11c-5a42-4af6-9af5-47beb0c7f169</td>\n",
       "      <td>Easter-bell</td>\n",
       "      <td>Весенняя колокольчик</td>\n",
       "    </tr>\n",
       "    <tr>\n",
       "      <th>2</th>\n",
       "      <td>aa126c55-99ed-429f-b1ea-7204f01a21ed</td>\n",
       "      <td>Field speedwell</td>\n",
       "      <td>Полынь полевая</td>\n",
       "    </tr>\n",
       "    <tr>\n",
       "      <th>3</th>\n",
       "      <td>eeb6a4f7-fbd3-44a3-807b-56a5bde966b4</td>\n",
       "      <td>Umbrella pine</td>\n",
       "      <td>None</td>\n",
       "    </tr>\n",
       "    <tr>\n",
       "      <th>4</th>\n",
       "      <td>1da23ba2-886e-4cf8-b023-30e6ae63fe2e</td>\n",
       "      <td>White cockle</td>\n",
       "      <td>Белая коклюшка</td>\n",
       "    </tr>\n",
       "    <tr>\n",
       "      <th>...</th>\n",
       "      <td>...</td>\n",
       "      <td>...</td>\n",
       "      <td>...</td>\n",
       "    </tr>\n",
       "    <tr>\n",
       "      <th>95</th>\n",
       "      <td>a62c8b52-8ac4-421c-8124-a3cfcf5a7dbb</td>\n",
       "      <td>Bitter dock</td>\n",
       "      <td>Лапчатка горькая</td>\n",
       "    </tr>\n",
       "    <tr>\n",
       "      <th>96</th>\n",
       "      <td>674f956c-fee9-43cd-9f7a-a7a850b4e45f</td>\n",
       "      <td>Oxeye daisy</td>\n",
       "      <td>Льнянка</td>\n",
       "    </tr>\n",
       "    <tr>\n",
       "      <th>97</th>\n",
       "      <td>cf76c942-6de2-40fe-83f3-a117143f272a</td>\n",
       "      <td>Male fern</td>\n",
       "      <td>Мужской ферн</td>\n",
       "    </tr>\n",
       "    <tr>\n",
       "      <th>98</th>\n",
       "      <td>480990f0-9541-4fb9-a643-3b32b5fc2231</td>\n",
       "      <td>Felonherb</td>\n",
       "      <td>None</td>\n",
       "    </tr>\n",
       "    <tr>\n",
       "      <th>99</th>\n",
       "      <td>b673133b-0ad9-4f74-8490-816b8d6fb467</td>\n",
       "      <td>Common dogwood</td>\n",
       "      <td>Обычная коробчатка</td>\n",
       "    </tr>\n",
       "  </tbody>\n",
       "</table>\n",
       "<p>100 rows × 3 columns</p>\n",
       "</div>"
      ],
      "text/plain": [
       "                              Unnamed: 0         old_name  \\\n",
       "0   5d58b28f-9b31-4b4a-975f-d2c065a39330     Meadow brome   \n",
       "1   9ec5a11c-5a42-4af6-9af5-47beb0c7f169      Easter-bell   \n",
       "2   aa126c55-99ed-429f-b1ea-7204f01a21ed  Field speedwell   \n",
       "3   eeb6a4f7-fbd3-44a3-807b-56a5bde966b4    Umbrella pine   \n",
       "4   1da23ba2-886e-4cf8-b023-30e6ae63fe2e     White cockle   \n",
       "..                                   ...              ...   \n",
       "95  a62c8b52-8ac4-421c-8124-a3cfcf5a7dbb      Bitter dock   \n",
       "96  674f956c-fee9-43cd-9f7a-a7a850b4e45f      Oxeye daisy   \n",
       "97  cf76c942-6de2-40fe-83f3-a117143f272a        Male fern   \n",
       "98  480990f0-9541-4fb9-a643-3b32b5fc2231        Felonherb   \n",
       "99  b673133b-0ad9-4f74-8490-816b8d6fb467   Common dogwood   \n",
       "\n",
       "                new_name  \n",
       "0                   None  \n",
       "1   Весенняя колокольчик  \n",
       "2         Полынь полевая  \n",
       "3                   None  \n",
       "4         Белая коклюшка  \n",
       "..                   ...  \n",
       "95      Лапчатка горькая  \n",
       "96               Льнянка  \n",
       "97          Мужской ферн  \n",
       "98                  None  \n",
       "99    Обычная коробчатка  \n",
       "\n",
       "[100 rows x 3 columns]"
      ]
     },
     "execution_count": 3,
     "metadata": {},
     "output_type": "execute_result"
    }
   ],
   "source": [
    "df = pd.read_csv(\"flowers.csv\")\n",
    "df = df.replace({np.nan: None})\n",
    "df"
   ]
  },
  {
   "cell_type": "code",
   "execution_count": 6,
   "metadata": {},
   "outputs": [
    {
     "data": {
      "application/vnd.microsoft.datawrangler.viewer.v0+json": {
       "columns": [
        {
         "name": "Unnamed: 0",
         "rawType": "object",
         "type": "string"
        },
        {
         "name": "old_name",
         "rawType": "object",
         "type": "string"
        },
        {
         "name": "new_name",
         "rawType": "object",
         "type": "unknown"
        }
       ],
       "conversionMethod": "pd.DataFrame",
       "ref": "30225a5e-1251-4678-9a1a-639a5b672164",
       "rows": [
        [
         "5d58b28f-9b31-4b4a-975f-d2c065a39330",
         "Meadow brome",
         null
        ],
        [
         "9ec5a11c-5a42-4af6-9af5-47beb0c7f169",
         "Easter-bell",
         "Весенняя колокольчик"
        ],
        [
         "aa126c55-99ed-429f-b1ea-7204f01a21ed",
         "Field speedwell",
         "Полынь полевая"
        ],
        [
         "eeb6a4f7-fbd3-44a3-807b-56a5bde966b4",
         "Umbrella pine",
         null
        ],
        [
         "1da23ba2-886e-4cf8-b023-30e6ae63fe2e",
         "White cockle",
         "Белая коклюшка"
        ],
        [
         "f5da6645-e3f6-4306-a631-6d99d39ff150",
         "Japanese knotweed",
         "Лотос японский"
        ],
        [
         "86e02b46-613a-46eb-8341-babf5c71eb48",
         "Bulbous buttercup",
         "Луковичная крапива"
        ],
        [
         "d3fd30e8-eb2f-46dc-baa8-e3d01c127eb3",
         "Wood violet",
         "Лесная виола"
        ],
        [
         "c6ef394e-8777-4b96-9309-be4c739fc09a",
         "Wood germander",
         "Лесной германдер"
        ],
        [
         "8f49ec5e-3bf4-4b4b-bcc7-2af3a8c217f7",
         "Matgrass",
         "Серыш"
        ],
        [
         "b7e5f8c0-d04c-4282-90f8-a4c287595a5b",
         "Suckling clover",
         "Личиная трепетник"
        ],
        [
         "6c95fbfd-0675-4077-9aec-5aaa0fffa67f",
         "Hairy sedge",
         "Волосатая тростниковая трава"
        ],
        [
         "b2dc286a-52c2-4017-bbbf-36bba598eb14",
         "Marsh horsetail",
         "Корневищная тростниковая солома"
        ],
        [
         "002b1f29-f62c-48a6-b672-443c8c8f087c",
         "Disc mayweed",
         null
        ],
        [
         "33149fc7-ba45-49dc-99be-f6879441dea5",
         "Burnet-saxifrage",
         null
        ],
        [
         "8f0b09dd-4018-4a41-9b9c-5b956b48425c",
         "Wood bluegrass",
         null
        ],
        [
         "82987423-ff4d-4500-83de-726432b03ae1",
         "Bottle sedge",
         "Кувшинка"
        ],
        [
         "6c8f9e0b-2a3a-465e-949c-79dcfd51987c",
         "Curlew-berry",
         "Лапчатка"
        ],
        [
         "c967d9b8-bfc0-4c30-afe2-9f79286879d4",
         "Barley",
         "Пшеница"
        ],
        [
         "d80db2b8-e95e-49d8-bd49-0344aef2106e",
         "Agrimony",
         "Коровяк"
        ],
        [
         "71eee19f-ed35-464e-beaa-431b5cff12ec",
         "Evergreen oak",
         "Эвкалипт вечнозелёный"
        ],
        [
         "11b25fcd-3a66-4021-a1d1-677df8bf1477",
         "Common nettle",
         "Обычная шершавая крапива"
        ],
        [
         "1b4c373c-b837-4563-90f0-a76c44f22762",
         "Barnyard grass",
         null
        ],
        [
         "d67c513e-3b7c-4b22-8ba4-49c3210f8010",
         "Narrow-leaf plantain",
         "Лиственница узколистая"
        ],
        [
         "75480559-4aaf-431f-90f4-b11f872a2393",
         "Milfoil",
         null
        ],
        [
         "9b200e50-c056-40fc-a339-755e73c4edde",
         "Dutch clover",
         "Голландская трепетница"
        ],
        [
         "191471cc-1c99-440c-a4bf-bf9fd093a704",
         "Yorkshire-fog",
         null
        ],
        [
         "393aab26-d086-49c1-afd0-0433d89767fc",
         "Creeping buttercup",
         "Крадущаяся крапива"
        ],
        [
         "47a6fc72-38ac-466f-8952-1097ce79b086",
         "Pedunculate oak",
         null
        ],
        [
         "0b53e9ff-e9b9-4ccb-98a6-7955195e7c93",
         "Red fescue",
         null
        ],
        [
         "14e17b97-4427-4b9b-94f2-bebba2e0bc08",
         "European ash",
         "Дерево осина"
        ],
        [
         "92cac1d7-af89-41fd-9dba-228510af628f",
         "California thistle",
         null
        ],
        [
         "db30480d-23f6-42b2-8f80-151ee2765bab",
         "Cowgrass clover",
         "Коровник"
        ],
        [
         "ed0d1529-08ef-4e20-8f03-d208b2886a1c",
         "Beech",
         null
        ],
        [
         "e8df9a3c-d7e6-4389-b723-bc45e323f2dc",
         "Soft rush",
         null
        ],
        [
         "260614ed-91ed-4e65-8de0-51a2bfbded75",
         "Meadow buttercup",
         null
        ],
        [
         "ed82021a-f229-4005-84d5-9ee556e3040b",
         "Hawthorn",
         "Яблоня шиповниковая"
        ],
        [
         "2454f4aa-7364-4a22-942a-614193c977aa",
         "Garden sorrel",
         null
        ],
        [
         "fa73f629-14cb-4413-bb1c-2cf97cbfb363",
         "Heather",
         null
        ],
        [
         "040a8639-1ffe-459d-9cde-87f2cae8e709",
         "Meadowsweet",
         null
        ],
        [
         "26bcad02-4af6-41e8-aed2-39da4ad850b5",
         "European filbert",
         "Европейский филберт"
        ],
        [
         "de999666-5307-436d-aaa9-e862b0e88fe5",
         "Ditch reed",
         "Колодник сычевой"
        ],
        [
         "f9dd8fce-2988-4794-bea5-db1ac1ef7cc1",
         "Gill-over-the-ground",
         "Лазящая гилл"
        ],
        [
         "42d60af6-f0eb-47b0-8bee-1ef8d51d5dca",
         "New zealand bent grass",
         "Кривошерстка новозеландская"
        ],
        [
         "23862b1d-582d-4db0-8864-3cc209e01628",
         "Scented vernal grass",
         "Запаховый весенний табак"
        ],
        [
         "cc71c613-c74e-422e-9575-49003de79f6c",
         "Ivy",
         "Лиана дикороса"
        ],
        [
         "4641cf32-ccfb-440a-a2cd-fd700d968575",
         "Spreading bent",
         "Лежачая кромка"
        ],
        [
         "00c01774-86a6-46f1-b4cb-b595a68576cd",
         "Common plantain",
         "Лиственница обыкновенная"
        ],
        [
         "6df75569-e4e4-41af-9300-f6d48b9203fb",
         "Common bird's-foot trefoil",
         "Обычный троянский конь"
        ],
        [
         "0a54b55b-6175-4750-8b9b-f132d8b1869c",
         "Quickbeam",
         "Быстрое дерево"
        ]
       ],
       "shape": {
        "columns": 2,
        "rows": 100
       }
      },
      "text/html": [
       "<div>\n",
       "<style scoped>\n",
       "    .dataframe tbody tr th:only-of-type {\n",
       "        vertical-align: middle;\n",
       "    }\n",
       "\n",
       "    .dataframe tbody tr th {\n",
       "        vertical-align: top;\n",
       "    }\n",
       "\n",
       "    .dataframe thead th {\n",
       "        text-align: right;\n",
       "    }\n",
       "</style>\n",
       "<table border=\"1\" class=\"dataframe\">\n",
       "  <thead>\n",
       "    <tr style=\"text-align: right;\">\n",
       "      <th></th>\n",
       "      <th>old_name</th>\n",
       "      <th>new_name</th>\n",
       "    </tr>\n",
       "    <tr>\n",
       "      <th>Unnamed: 0</th>\n",
       "      <th></th>\n",
       "      <th></th>\n",
       "    </tr>\n",
       "  </thead>\n",
       "  <tbody>\n",
       "    <tr>\n",
       "      <th>5d58b28f-9b31-4b4a-975f-d2c065a39330</th>\n",
       "      <td>Meadow brome</td>\n",
       "      <td>None</td>\n",
       "    </tr>\n",
       "    <tr>\n",
       "      <th>9ec5a11c-5a42-4af6-9af5-47beb0c7f169</th>\n",
       "      <td>Easter-bell</td>\n",
       "      <td>Весенняя колокольчик</td>\n",
       "    </tr>\n",
       "    <tr>\n",
       "      <th>aa126c55-99ed-429f-b1ea-7204f01a21ed</th>\n",
       "      <td>Field speedwell</td>\n",
       "      <td>Полынь полевая</td>\n",
       "    </tr>\n",
       "    <tr>\n",
       "      <th>eeb6a4f7-fbd3-44a3-807b-56a5bde966b4</th>\n",
       "      <td>Umbrella pine</td>\n",
       "      <td>None</td>\n",
       "    </tr>\n",
       "    <tr>\n",
       "      <th>1da23ba2-886e-4cf8-b023-30e6ae63fe2e</th>\n",
       "      <td>White cockle</td>\n",
       "      <td>Белая коклюшка</td>\n",
       "    </tr>\n",
       "    <tr>\n",
       "      <th>...</th>\n",
       "      <td>...</td>\n",
       "      <td>...</td>\n",
       "    </tr>\n",
       "    <tr>\n",
       "      <th>a62c8b52-8ac4-421c-8124-a3cfcf5a7dbb</th>\n",
       "      <td>Bitter dock</td>\n",
       "      <td>Лапчатка горькая</td>\n",
       "    </tr>\n",
       "    <tr>\n",
       "      <th>674f956c-fee9-43cd-9f7a-a7a850b4e45f</th>\n",
       "      <td>Oxeye daisy</td>\n",
       "      <td>Льнянка</td>\n",
       "    </tr>\n",
       "    <tr>\n",
       "      <th>cf76c942-6de2-40fe-83f3-a117143f272a</th>\n",
       "      <td>Male fern</td>\n",
       "      <td>Мужской ферн</td>\n",
       "    </tr>\n",
       "    <tr>\n",
       "      <th>480990f0-9541-4fb9-a643-3b32b5fc2231</th>\n",
       "      <td>Felonherb</td>\n",
       "      <td>None</td>\n",
       "    </tr>\n",
       "    <tr>\n",
       "      <th>b673133b-0ad9-4f74-8490-816b8d6fb467</th>\n",
       "      <td>Common dogwood</td>\n",
       "      <td>Обычная коробчатка</td>\n",
       "    </tr>\n",
       "  </tbody>\n",
       "</table>\n",
       "<p>100 rows × 2 columns</p>\n",
       "</div>"
      ],
      "text/plain": [
       "                                             old_name              new_name\n",
       "Unnamed: 0                                                                 \n",
       "5d58b28f-9b31-4b4a-975f-d2c065a39330     Meadow brome                  None\n",
       "9ec5a11c-5a42-4af6-9af5-47beb0c7f169      Easter-bell  Весенняя колокольчик\n",
       "aa126c55-99ed-429f-b1ea-7204f01a21ed  Field speedwell        Полынь полевая\n",
       "eeb6a4f7-fbd3-44a3-807b-56a5bde966b4    Umbrella pine                  None\n",
       "1da23ba2-886e-4cf8-b023-30e6ae63fe2e     White cockle        Белая коклюшка\n",
       "...                                               ...                   ...\n",
       "a62c8b52-8ac4-421c-8124-a3cfcf5a7dbb      Bitter dock      Лапчатка горькая\n",
       "674f956c-fee9-43cd-9f7a-a7a850b4e45f      Oxeye daisy               Льнянка\n",
       "cf76c942-6de2-40fe-83f3-a117143f272a        Male fern          Мужской ферн\n",
       "480990f0-9541-4fb9-a643-3b32b5fc2231        Felonherb                  None\n",
       "b673133b-0ad9-4f74-8490-816b8d6fb467   Common dogwood    Обычная коробчатка\n",
       "\n",
       "[100 rows x 2 columns]"
      ]
     },
     "execution_count": 6,
     "metadata": {},
     "output_type": "execute_result"
    }
   ],
   "source": [
    "df.set_index(\"Unnamed: 0\", inplace=True)\n",
    "df"
   ]
  },
  {
   "cell_type": "code",
   "execution_count": 10,
   "metadata": {},
   "outputs": [
    {
     "data": {
      "text/plain": [
       "old_name    Meadow brome\n",
       "new_name            None\n",
       "Name: 5d58b28f-9b31-4b4a-975f-d2c065a39330, dtype: object"
      ]
     },
     "execution_count": 10,
     "metadata": {},
     "output_type": "execute_result"
    }
   ],
   "source": [
    "df.loc[\"5d58b28f-9b31-4b4a-975f-d2c065a39330\"]"
   ]
  },
  {
   "cell_type": "code",
   "execution_count": 4,
   "metadata": {},
   "outputs": [],
   "source": [
    "from sqlmodel import SQLModel, Field\n",
    "from uuid import UUID, uuid4\n",
    "from datetime import date\n",
    "\n",
    "\n",
    "class Plant(SQLModel, table=True):\n",
    "    __tablename__ = \"plants\"\n",
    "    __table_args__ = {\"extend_existing\": True}\n",
    "    id: UUID = Field(primary_key=True, default_factory=uuid4)\n",
    "    name: str | None\n",
    "    origin_name: str | None\n",
    "    bibliography: str\n",
    "    slug: str\n",
    "    year: date\n",
    "    image_url: str\n",
    "    family: str\n",
    "    genus: str\n",
    "    rank: str"
   ]
  },
  {
   "cell_type": "code",
   "execution_count": 5,
   "metadata": {},
   "outputs": [],
   "source": [
    "from sqlmodel import select\n",
    "\n",
    "async with session_maker() as session:\n",
    "    plants = (await session.exec(select(Plant))).all()"
   ]
  },
  {
   "cell_type": "code",
   "execution_count": null,
   "metadata": {},
   "outputs": [],
   "source": [
    "async with session_maker() as session:\n",
    "    for plant in plants:\n",
    "        plant.name = df.loc[str(plant.id)][\"new_name\"]\n",
    "        session.add(plant)\n",
    "\n",
    "    await session.commit()"
   ]
  }
 ],
 "metadata": {
  "kernelspec": {
   "display_name": ".venv",
   "language": "python",
   "name": "python3"
  },
  "language_info": {
   "codemirror_mode": {
    "name": "ipython",
    "version": 3
   },
   "file_extension": ".py",
   "mimetype": "text/x-python",
   "name": "python",
   "nbconvert_exporter": "python",
   "pygments_lexer": "ipython3",
   "version": "3.12.3"
  }
 },
 "nbformat": 4,
 "nbformat_minor": 2
}
