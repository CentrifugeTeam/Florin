{
 "cells": [
  {
   "cell_type": "code",
   "execution_count": null,
   "metadata": {},
   "outputs": [
    {
     "name": "stderr",
     "output_type": "stream",
     "text": [
      "/tmp/ipykernel_177178/2213911182.py:4: DeprecationWarning: datetime.datetime.utcnow() is deprecated and scheduled for removal in a future version. Use timezone-aware objects to represent datetimes in UTC: datetime.datetime.now(datetime.UTC).\n",
      "  start_date = datetime.utcnow()\n"
     ]
    },
    {
     "data": {
      "text/plain": [
       "datetime.datetime(2025, 2, 18, 15, 40, 6, 52903)"
      ]
     },
     "execution_count": 232,
     "metadata": {},
     "output_type": "execute_result"
    }
   ],
   "source": [
    "# \"status\": \"ok\",\\n  \"seasons\": {\\n    \"winter\": \"0 12 2,15 1,2,12 *\",\\n    \"autumn\": \"0 12 */7 3-5 *\",\\n    \"summer\": \"0 12 */2 6-8 *\",\\n    \"spring\": \"0 12 */7 9-11 *\"\n",
    "# need to specify by user when he or she last water the plant because I need datetime from this period"
   ]
  },
  {
   "cell_type": "code",
   "execution_count": 2,
   "metadata": {},
   "outputs": [],
   "source": [
    "%run \"template.ipynb\""
   ]
  },
  {
   "cell_type": "code",
   "execution_count": 3,
   "metadata": {},
   "outputs": [],
   "source": [
    "from langchain_core.prompts import ChatPromptTemplate, MessagesPlaceholder\n",
    "from pydantic import BaseModel, Field\n",
    "\n",
    "# Define a custom prompt to provide instructions and any additional context.\n",
    "# 1) You can add examples into the prompt template to improve extraction quality\n",
    "# 2) Introduce additional parameters to take context into account (e.g., include metadata\n",
    "#    about the document from which the text was extracted.)\n",
    "prompt_template = ChatPromptTemplate.from_messages(\n",
    "    [\n",
    "        (\n",
    "            \"system\",\n",
    "            \"You are a translator of home flower from English to Russian\"\n",
    "            \"You are translate an flower from the text.\"\n",
    "            \"Send only the name of the flower or null\"\n",
    "            \"Flowers should be in the Russia language\",\n",
    "        ),\n",
    "        # Please see the how-to about improving performance with\n",
    "        # reference examples.\n",
    "        # MessagesPlaceholder('examples'),\n",
    "        (\"human\", \"{text}\"),\n",
    "    ]\n",
    ")"
   ]
  },
  {
   "cell_type": "code",
   "execution_count": 4,
   "metadata": {},
   "outputs": [],
   "source": [
    "from sqlmodel import SQLModel, Field\n",
    "from uuid import UUID, uuid4\n",
    "from datetime import date\n",
    "\n",
    "\n",
    "class Plant(SQLModel, table=True):\n",
    "    __tablename__ = \"plants\"\n",
    "    __table_args__ = {\"extend_existing\": True}\n",
    "    id: UUID = Field(primary_key=True, default_factory=uuid4)\n",
    "    name: str | None\n",
    "    origin_name: str\n",
    "    bibliography: str\n",
    "    slug: str\n",
    "    year: date\n",
    "    image_url: str\n",
    "    family: str\n",
    "    genus: str\n",
    "    rank: str"
   ]
  },
  {
   "cell_type": "code",
   "execution_count": 5,
   "metadata": {},
   "outputs": [],
   "source": [
    "from sqlmodel import select\n",
    "\n",
    "async with session_maker() as session:\n",
    "    plants = await session.exec(select(Plant))"
   ]
  },
  {
   "cell_type": "code",
   "execution_count": 6,
   "metadata": {},
   "outputs": [],
   "source": [
    "plants = plants.all()"
   ]
  },
  {
   "cell_type": "code",
   "execution_count": 7,
   "metadata": {},
   "outputs": [
    {
     "data": {
      "text/plain": [
       "100"
      ]
     },
     "execution_count": 7,
     "metadata": {},
     "output_type": "execute_result"
    }
   ],
   "source": [
    "len(plants)"
   ]
  },
  {
   "cell_type": "code",
   "execution_count": 8,
   "metadata": {},
   "outputs": [],
   "source": [
    "from langchain_ollama import ChatOllama\n",
    "\n",
    "llm = ChatOllama(\n",
    "    model=\"qwen2.5\",\n",
    "    temperature=0.05,\n",
    ")"
   ]
  },
  {
   "cell_type": "code",
   "execution_count": 13,
   "metadata": {},
   "outputs": [
    {
     "name": "stderr",
     "output_type": "stream",
     "text": [
      "Anchoring: 100%|██████████| 100/100 [03:29<00:00,  2.10s/page]\n"
     ]
    }
   ],
   "source": [
    "from langchain_core.messages.ai import AIMessage\n",
    "from tqdm import tqdm\n",
    "\n",
    "df = pd.DataFrame(columns=[\"old_name\", \"new_name\"])\n",
    "for plant in tqdm(plants, total=len(plants), desc=\"Anchoring\", unit=\"page\"):\n",
    "    text = f\"Переведи на русский это домашнее растение - {plant.origin_name}\"\n",
    "    prompt = prompt_template.invoke({\"text\": text})\n",
    "    response = llm.invoke(prompt)\n",
    "    df.loc[plant.id] = (plant.origin_name, response.content)"
   ]
  },
  {
   "cell_type": "code",
   "execution_count": 15,
   "metadata": {},
   "outputs": [
    {
     "data": {
      "application/vnd.microsoft.datawrangler.viewer.v0+json": {
       "columns": [
        {
         "name": "index",
         "rawType": "object",
         "type": "unknown"
        },
        {
         "name": "old_name",
         "rawType": "object",
         "type": "string"
        },
        {
         "name": "new_name",
         "rawType": "object",
         "type": "string"
        }
       ],
       "conversionMethod": "pd.DataFrame",
       "ref": "dcccdd97-f2d7-4dd4-8a11-5b466fcc21b6",
       "rows": [
        [
         "5d58b28f-9b31-4b4a-975f-d2c065a39330",
         "Meadow brome",
         "Костяшка Meadows"
        ],
        [
         "9ec5a11c-5a42-4af6-9af5-47beb0c7f169",
         "Easter-bell",
         "Весенняя колокольчик"
        ],
        [
         "aa126c55-99ed-429f-b1ea-7204f01a21ed",
         "Field speedwell",
         "Полынь полевая"
        ],
        [
         "eeb6a4f7-fbd3-44a3-807b-56a5bde966b4",
         "Umbrella pine",
         "Купальníк"
        ],
        [
         "1da23ba2-886e-4cf8-b023-30e6ae63fe2e",
         "White cockle",
         "Белая коклюшка"
        ],
        [
         "f5da6645-e3f6-4306-a631-6d99d39ff150",
         "Japanese knotweed",
         "Лотос японский"
        ],
        [
         "86e02b46-613a-46eb-8341-babf5c71eb48",
         "Bulbous buttercup",
         "Луковичная крапива"
        ],
        [
         "d3fd30e8-eb2f-46dc-baa8-e3d01c127eb3",
         "Wood violet",
         "Лесная виола"
        ],
        [
         "c6ef394e-8777-4b96-9309-be4c739fc09a",
         "Wood germander",
         "Лесной германдер"
        ],
        [
         "8f49ec5e-3bf4-4b4b-bcc7-2af3a8c217f7",
         "Matgrass",
         "Серыш"
        ],
        [
         "b7e5f8c0-d04c-4282-90f8-a4c287595a5b",
         "Suckling clover",
         "Личиная трепетник"
        ],
        [
         "6c95fbfd-0675-4077-9aec-5aaa0fffa67f",
         "Hairy sedge",
         "Волосатая тростниковая трава"
        ],
        [
         "b2dc286a-52c2-4017-bbbf-36bba598eb14",
         "Marsh horsetail",
         "Корневищная тростниковая солома"
        ],
        [
         "002b1f29-f62c-48a6-b672-443c8c8f087c",
         "Disc mayweed",
         "Коровяк-disc"
        ],
        [
         "33149fc7-ba45-49dc-99be-f6879441dea5",
         "Burnet-saxifrage",
         "Саксаул-багульник"
        ],
        [
         "8f0b09dd-4018-4a41-9b9c-5b956b48425c",
         "Wood bluegrass",
         "null"
        ],
        [
         "82987423-ff4d-4500-83de-726432b03ae1",
         "Bottle sedge",
         "Кувшинка"
        ],
        [
         "6c8f9e0b-2a3a-465e-949c-79dcfd51987c",
         "Curlew-berry",
         "Лапчатка"
        ],
        [
         "c967d9b8-bfc0-4c30-afe2-9f79286879d4",
         "Barley",
         "Пшеница"
        ],
        [
         "d80db2b8-e95e-49d8-bd49-0344aef2106e",
         "Agrimony",
         "Коровяк"
        ],
        [
         "71eee19f-ed35-464e-beaa-431b5cff12ec",
         "Evergreen oak",
         "Эвкалипт вечнозелёный"
        ],
        [
         "11b25fcd-3a66-4021-a1d1-677df8bf1477",
         "Common nettle",
         "Обычная шершавая крапива"
        ],
        [
         "1b4c373c-b837-4563-90f0-a76c44f22762",
         "Barnyard grass",
         "null"
        ],
        [
         "d67c513e-3b7c-4b22-8ba4-49c3210f8010",
         "Narrow-leaf plantain",
         "Лиственница узколистая"
        ],
        [
         "75480559-4aaf-431f-90f4-b11f872a2393",
         "Milfoil",
         "Милфойл переводится как Мильфей в русском языке."
        ],
        [
         "9b200e50-c056-40fc-a339-755e73c4edde",
         "Dutch clover",
         "Голландская трепетница"
        ],
        [
         "191471cc-1c99-440c-a4bf-bf9fd093a704",
         "Yorkshire-fog",
         "Нулл"
        ],
        [
         "393aab26-d086-49c1-afd0-0433d89767fc",
         "Creeping buttercup",
         "Крадущаяся крапива"
        ],
        [
         "47a6fc72-38ac-466f-8952-1097ce79b086",
         "Pedunculate oak",
         "Оicensing Oak"
        ],
        [
         "0b53e9ff-e9b9-4ccb-98a6-7955195e7c93",
         "Red fescue",
         "null"
        ],
        [
         "14e17b97-4427-4b9b-94f2-bebba2e0bc08",
         "European ash",
         "Дерево осина"
        ],
        [
         "92cac1d7-af89-41fd-9dba-228510af628f",
         "California thistle",
         "Калифорнийская蓟(null)"
        ],
        [
         "db30480d-23f6-42b2-8f80-151ee2765bab",
         "Cowgrass clover",
         "Коровник"
        ],
        [
         "ed0d1529-08ef-4e20-8f03-d208b2886a1c",
         "Beech",
         "null"
        ],
        [
         "e8df9a3c-d7e6-4389-b723-bc45e323f2dc",
         "Soft rush",
         "Сoft rush -Soft Reed"
        ],
        [
         "260614ed-91ed-4e65-8de0-51a2bfbded75",
         "Meadow buttercup",
         "Коровяк Meadowsweet"
        ],
        [
         "ed82021a-f229-4005-84d5-9ee556e3040b",
         "Hawthorn",
         "Яблоня шиповниковая"
        ],
        [
         "2454f4aa-7364-4a22-942a-614193c977aa",
         "Garden sorrel",
         "Сор rel садовый"
        ],
        [
         "fa73f629-14cb-4413-bb1c-2cf97cbfb363",
         "Heather",
         "Кустарник-шерсть👀"
        ],
        [
         "040a8639-1ffe-459d-9cde-87f2cae8e709",
         "Meadowsweet",
         "Мeadowsweet переводится как Ветрелёвка."
        ],
        [
         "26bcad02-4af6-41e8-aed2-39da4ad850b5",
         "European filbert",
         "Европейский филберт"
        ],
        [
         "de999666-5307-436d-aaa9-e862b0e88fe5",
         "Ditch reed",
         "Колодник сычевой"
        ],
        [
         "f9dd8fce-2988-4794-bea5-db1ac1ef7cc1",
         "Gill-over-the-ground",
         "Лазящая гилл"
        ],
        [
         "42d60af6-f0eb-47b0-8bee-1ef8d51d5dca",
         "New zealand bent grass",
         "Кривошерстка новозеландская"
        ],
        [
         "23862b1d-582d-4db0-8864-3cc209e01628",
         "Scented vernal grass",
         "Запаховый весенний табак"
        ],
        [
         "cc71c613-c74e-422e-9575-49003de79f6c",
         "Ivy",
         "Лиана дикороса"
        ],
        [
         "4641cf32-ccfb-440a-a2cd-fd700d968575",
         "Spreading bent",
         "Лежачая кромка"
        ],
        [
         "00c01774-86a6-46f1-b4cb-b595a68576cd",
         "Common plantain",
         "Лиственница обыкновенная"
        ],
        [
         "6df75569-e4e4-41af-9300-f6d48b9203fb",
         "Common bird's-foot trefoil",
         "Обычный троянский конь"
        ],
        [
         "0a54b55b-6175-4750-8b9b-f132d8b1869c",
         "Quickbeam",
         "Быстрое дерево"
        ]
       ],
       "shape": {
        "columns": 2,
        "rows": 100
       }
      },
      "text/html": [
       "<div>\n",
       "<style scoped>\n",
       "    .dataframe tbody tr th:only-of-type {\n",
       "        vertical-align: middle;\n",
       "    }\n",
       "\n",
       "    .dataframe tbody tr th {\n",
       "        vertical-align: top;\n",
       "    }\n",
       "\n",
       "    .dataframe thead th {\n",
       "        text-align: right;\n",
       "    }\n",
       "</style>\n",
       "<table border=\"1\" class=\"dataframe\">\n",
       "  <thead>\n",
       "    <tr style=\"text-align: right;\">\n",
       "      <th></th>\n",
       "      <th>old_name</th>\n",
       "      <th>new_name</th>\n",
       "    </tr>\n",
       "  </thead>\n",
       "  <tbody>\n",
       "    <tr>\n",
       "      <th>5d58b28f-9b31-4b4a-975f-d2c065a39330</th>\n",
       "      <td>Meadow brome</td>\n",
       "      <td>Костяшка Meadows</td>\n",
       "    </tr>\n",
       "    <tr>\n",
       "      <th>9ec5a11c-5a42-4af6-9af5-47beb0c7f169</th>\n",
       "      <td>Easter-bell</td>\n",
       "      <td>Весенняя колокольчик</td>\n",
       "    </tr>\n",
       "    <tr>\n",
       "      <th>aa126c55-99ed-429f-b1ea-7204f01a21ed</th>\n",
       "      <td>Field speedwell</td>\n",
       "      <td>Полынь полевая</td>\n",
       "    </tr>\n",
       "    <tr>\n",
       "      <th>eeb6a4f7-fbd3-44a3-807b-56a5bde966b4</th>\n",
       "      <td>Umbrella pine</td>\n",
       "      <td>Купальníк</td>\n",
       "    </tr>\n",
       "    <tr>\n",
       "      <th>1da23ba2-886e-4cf8-b023-30e6ae63fe2e</th>\n",
       "      <td>White cockle</td>\n",
       "      <td>Белая коклюшка</td>\n",
       "    </tr>\n",
       "    <tr>\n",
       "      <th>...</th>\n",
       "      <td>...</td>\n",
       "      <td>...</td>\n",
       "    </tr>\n",
       "    <tr>\n",
       "      <th>a62c8b52-8ac4-421c-8124-a3cfcf5a7dbb</th>\n",
       "      <td>Bitter dock</td>\n",
       "      <td>Лапчатка горькая</td>\n",
       "    </tr>\n",
       "    <tr>\n",
       "      <th>674f956c-fee9-43cd-9f7a-a7a850b4e45f</th>\n",
       "      <td>Oxeye daisy</td>\n",
       "      <td>Льнянка</td>\n",
       "    </tr>\n",
       "    <tr>\n",
       "      <th>cf76c942-6de2-40fe-83f3-a117143f272a</th>\n",
       "      <td>Male fern</td>\n",
       "      <td>Мужской ферн</td>\n",
       "    </tr>\n",
       "    <tr>\n",
       "      <th>480990f0-9541-4fb9-a643-3b32b5fc2231</th>\n",
       "      <td>Felonherb</td>\n",
       "      <td>null</td>\n",
       "    </tr>\n",
       "    <tr>\n",
       "      <th>b673133b-0ad9-4f74-8490-816b8d6fb467</th>\n",
       "      <td>Common dogwood</td>\n",
       "      <td>Обычная коробчатка</td>\n",
       "    </tr>\n",
       "  </tbody>\n",
       "</table>\n",
       "<p>100 rows × 2 columns</p>\n",
       "</div>"
      ],
      "text/plain": [
       "                                             old_name              new_name\n",
       "5d58b28f-9b31-4b4a-975f-d2c065a39330     Meadow brome      Костяшка Meadows\n",
       "9ec5a11c-5a42-4af6-9af5-47beb0c7f169      Easter-bell  Весенняя колокольчик\n",
       "aa126c55-99ed-429f-b1ea-7204f01a21ed  Field speedwell        Полынь полевая\n",
       "eeb6a4f7-fbd3-44a3-807b-56a5bde966b4    Umbrella pine             Купальníк\n",
       "1da23ba2-886e-4cf8-b023-30e6ae63fe2e     White cockle        Белая коклюшка\n",
       "...                                               ...                   ...\n",
       "a62c8b52-8ac4-421c-8124-a3cfcf5a7dbb      Bitter dock      Лапчатка горькая\n",
       "674f956c-fee9-43cd-9f7a-a7a850b4e45f      Oxeye daisy               Льнянка\n",
       "cf76c942-6de2-40fe-83f3-a117143f272a        Male fern          Мужской ферн\n",
       "480990f0-9541-4fb9-a643-3b32b5fc2231        Felonherb                  null\n",
       "b673133b-0ad9-4f74-8490-816b8d6fb467   Common dogwood    Обычная коробчатка\n",
       "\n",
       "[100 rows x 2 columns]"
      ]
     },
     "execution_count": 15,
     "metadata": {},
     "output_type": "execute_result"
    }
   ],
   "source": [
    "df"
   ]
  },
  {
   "cell_type": "code",
   "execution_count": 16,
   "metadata": {},
   "outputs": [],
   "source": [
    "import re\n",
    "\n",
    "regex = re.compile(\"^[а-яА-ЯёЁ ]+$\")\n",
    "for row in df.iterrows():\n",
    "    new_name = row[1][\"new_name\"]\n",
    "    if new_name is not None and (\n",
    "        new_name in (\"null\", \"Нулл\", \"Ничего\")\n",
    "        or len(new_name.split()) > 5\n",
    "        or regex.match(new_name) == None\n",
    "    ):\n",
    "        row[1][\"new_name\"] = None\n"
   ]
  },
  {
   "cell_type": "code",
   "execution_count": 17,
   "metadata": {},
   "outputs": [
    {
     "data": {
      "application/vnd.microsoft.datawrangler.viewer.v0+json": {
       "columns": [
        {
         "name": "index",
         "rawType": "object",
         "type": "unknown"
        },
        {
         "name": "old_name",
         "rawType": "object",
         "type": "string"
        },
        {
         "name": "new_name",
         "rawType": "object",
         "type": "unknown"
        }
       ],
       "conversionMethod": "pd.DataFrame",
       "ref": "9cb23991-3fe2-4e44-b450-a57820935847",
       "rows": [
        [
         "5d58b28f-9b31-4b4a-975f-d2c065a39330",
         "Meadow brome",
         null
        ],
        [
         "9ec5a11c-5a42-4af6-9af5-47beb0c7f169",
         "Easter-bell",
         "Весенняя колокольчик"
        ],
        [
         "aa126c55-99ed-429f-b1ea-7204f01a21ed",
         "Field speedwell",
         "Полынь полевая"
        ],
        [
         "eeb6a4f7-fbd3-44a3-807b-56a5bde966b4",
         "Umbrella pine",
         null
        ],
        [
         "1da23ba2-886e-4cf8-b023-30e6ae63fe2e",
         "White cockle",
         "Белая коклюшка"
        ],
        [
         "f5da6645-e3f6-4306-a631-6d99d39ff150",
         "Japanese knotweed",
         "Лотос японский"
        ],
        [
         "86e02b46-613a-46eb-8341-babf5c71eb48",
         "Bulbous buttercup",
         "Луковичная крапива"
        ],
        [
         "d3fd30e8-eb2f-46dc-baa8-e3d01c127eb3",
         "Wood violet",
         "Лесная виола"
        ],
        [
         "c6ef394e-8777-4b96-9309-be4c739fc09a",
         "Wood germander",
         "Лесной германдер"
        ],
        [
         "8f49ec5e-3bf4-4b4b-bcc7-2af3a8c217f7",
         "Matgrass",
         "Серыш"
        ],
        [
         "b7e5f8c0-d04c-4282-90f8-a4c287595a5b",
         "Suckling clover",
         "Личиная трепетник"
        ],
        [
         "6c95fbfd-0675-4077-9aec-5aaa0fffa67f",
         "Hairy sedge",
         "Волосатая тростниковая трава"
        ],
        [
         "b2dc286a-52c2-4017-bbbf-36bba598eb14",
         "Marsh horsetail",
         "Корневищная тростниковая солома"
        ],
        [
         "002b1f29-f62c-48a6-b672-443c8c8f087c",
         "Disc mayweed",
         null
        ],
        [
         "33149fc7-ba45-49dc-99be-f6879441dea5",
         "Burnet-saxifrage",
         null
        ],
        [
         "8f0b09dd-4018-4a41-9b9c-5b956b48425c",
         "Wood bluegrass",
         null
        ],
        [
         "82987423-ff4d-4500-83de-726432b03ae1",
         "Bottle sedge",
         "Кувшинка"
        ],
        [
         "6c8f9e0b-2a3a-465e-949c-79dcfd51987c",
         "Curlew-berry",
         "Лапчатка"
        ],
        [
         "c967d9b8-bfc0-4c30-afe2-9f79286879d4",
         "Barley",
         "Пшеница"
        ],
        [
         "d80db2b8-e95e-49d8-bd49-0344aef2106e",
         "Agrimony",
         "Коровяк"
        ],
        [
         "71eee19f-ed35-464e-beaa-431b5cff12ec",
         "Evergreen oak",
         "Эвкалипт вечнозелёный"
        ],
        [
         "11b25fcd-3a66-4021-a1d1-677df8bf1477",
         "Common nettle",
         "Обычная шершавая крапива"
        ],
        [
         "1b4c373c-b837-4563-90f0-a76c44f22762",
         "Barnyard grass",
         null
        ],
        [
         "d67c513e-3b7c-4b22-8ba4-49c3210f8010",
         "Narrow-leaf plantain",
         "Лиственница узколистая"
        ],
        [
         "75480559-4aaf-431f-90f4-b11f872a2393",
         "Milfoil",
         null
        ],
        [
         "9b200e50-c056-40fc-a339-755e73c4edde",
         "Dutch clover",
         "Голландская трепетница"
        ],
        [
         "191471cc-1c99-440c-a4bf-bf9fd093a704",
         "Yorkshire-fog",
         null
        ],
        [
         "393aab26-d086-49c1-afd0-0433d89767fc",
         "Creeping buttercup",
         "Крадущаяся крапива"
        ],
        [
         "47a6fc72-38ac-466f-8952-1097ce79b086",
         "Pedunculate oak",
         null
        ],
        [
         "0b53e9ff-e9b9-4ccb-98a6-7955195e7c93",
         "Red fescue",
         null
        ],
        [
         "14e17b97-4427-4b9b-94f2-bebba2e0bc08",
         "European ash",
         "Дерево осина"
        ],
        [
         "92cac1d7-af89-41fd-9dba-228510af628f",
         "California thistle",
         null
        ],
        [
         "db30480d-23f6-42b2-8f80-151ee2765bab",
         "Cowgrass clover",
         "Коровник"
        ],
        [
         "ed0d1529-08ef-4e20-8f03-d208b2886a1c",
         "Beech",
         null
        ],
        [
         "e8df9a3c-d7e6-4389-b723-bc45e323f2dc",
         "Soft rush",
         null
        ],
        [
         "260614ed-91ed-4e65-8de0-51a2bfbded75",
         "Meadow buttercup",
         null
        ],
        [
         "ed82021a-f229-4005-84d5-9ee556e3040b",
         "Hawthorn",
         "Яблоня шиповниковая"
        ],
        [
         "2454f4aa-7364-4a22-942a-614193c977aa",
         "Garden sorrel",
         null
        ],
        [
         "fa73f629-14cb-4413-bb1c-2cf97cbfb363",
         "Heather",
         null
        ],
        [
         "040a8639-1ffe-459d-9cde-87f2cae8e709",
         "Meadowsweet",
         null
        ],
        [
         "26bcad02-4af6-41e8-aed2-39da4ad850b5",
         "European filbert",
         "Европейский филберт"
        ],
        [
         "de999666-5307-436d-aaa9-e862b0e88fe5",
         "Ditch reed",
         "Колодник сычевой"
        ],
        [
         "f9dd8fce-2988-4794-bea5-db1ac1ef7cc1",
         "Gill-over-the-ground",
         "Лазящая гилл"
        ],
        [
         "42d60af6-f0eb-47b0-8bee-1ef8d51d5dca",
         "New zealand bent grass",
         "Кривошерстка новозеландская"
        ],
        [
         "23862b1d-582d-4db0-8864-3cc209e01628",
         "Scented vernal grass",
         "Запаховый весенний табак"
        ],
        [
         "cc71c613-c74e-422e-9575-49003de79f6c",
         "Ivy",
         "Лиана дикороса"
        ],
        [
         "4641cf32-ccfb-440a-a2cd-fd700d968575",
         "Spreading bent",
         "Лежачая кромка"
        ],
        [
         "00c01774-86a6-46f1-b4cb-b595a68576cd",
         "Common plantain",
         "Лиственница обыкновенная"
        ],
        [
         "6df75569-e4e4-41af-9300-f6d48b9203fb",
         "Common bird's-foot trefoil",
         "Обычный троянский конь"
        ],
        [
         "0a54b55b-6175-4750-8b9b-f132d8b1869c",
         "Quickbeam",
         "Быстрое дерево"
        ]
       ],
       "shape": {
        "columns": 2,
        "rows": 100
       }
      },
      "text/html": [
       "<div>\n",
       "<style scoped>\n",
       "    .dataframe tbody tr th:only-of-type {\n",
       "        vertical-align: middle;\n",
       "    }\n",
       "\n",
       "    .dataframe tbody tr th {\n",
       "        vertical-align: top;\n",
       "    }\n",
       "\n",
       "    .dataframe thead th {\n",
       "        text-align: right;\n",
       "    }\n",
       "</style>\n",
       "<table border=\"1\" class=\"dataframe\">\n",
       "  <thead>\n",
       "    <tr style=\"text-align: right;\">\n",
       "      <th></th>\n",
       "      <th>old_name</th>\n",
       "      <th>new_name</th>\n",
       "    </tr>\n",
       "  </thead>\n",
       "  <tbody>\n",
       "    <tr>\n",
       "      <th>5d58b28f-9b31-4b4a-975f-d2c065a39330</th>\n",
       "      <td>Meadow brome</td>\n",
       "      <td>None</td>\n",
       "    </tr>\n",
       "    <tr>\n",
       "      <th>9ec5a11c-5a42-4af6-9af5-47beb0c7f169</th>\n",
       "      <td>Easter-bell</td>\n",
       "      <td>Весенняя колокольчик</td>\n",
       "    </tr>\n",
       "    <tr>\n",
       "      <th>aa126c55-99ed-429f-b1ea-7204f01a21ed</th>\n",
       "      <td>Field speedwell</td>\n",
       "      <td>Полынь полевая</td>\n",
       "    </tr>\n",
       "    <tr>\n",
       "      <th>eeb6a4f7-fbd3-44a3-807b-56a5bde966b4</th>\n",
       "      <td>Umbrella pine</td>\n",
       "      <td>None</td>\n",
       "    </tr>\n",
       "    <tr>\n",
       "      <th>1da23ba2-886e-4cf8-b023-30e6ae63fe2e</th>\n",
       "      <td>White cockle</td>\n",
       "      <td>Белая коклюшка</td>\n",
       "    </tr>\n",
       "    <tr>\n",
       "      <th>...</th>\n",
       "      <td>...</td>\n",
       "      <td>...</td>\n",
       "    </tr>\n",
       "    <tr>\n",
       "      <th>a62c8b52-8ac4-421c-8124-a3cfcf5a7dbb</th>\n",
       "      <td>Bitter dock</td>\n",
       "      <td>Лапчатка горькая</td>\n",
       "    </tr>\n",
       "    <tr>\n",
       "      <th>674f956c-fee9-43cd-9f7a-a7a850b4e45f</th>\n",
       "      <td>Oxeye daisy</td>\n",
       "      <td>Льнянка</td>\n",
       "    </tr>\n",
       "    <tr>\n",
       "      <th>cf76c942-6de2-40fe-83f3-a117143f272a</th>\n",
       "      <td>Male fern</td>\n",
       "      <td>Мужской ферн</td>\n",
       "    </tr>\n",
       "    <tr>\n",
       "      <th>480990f0-9541-4fb9-a643-3b32b5fc2231</th>\n",
       "      <td>Felonherb</td>\n",
       "      <td>None</td>\n",
       "    </tr>\n",
       "    <tr>\n",
       "      <th>b673133b-0ad9-4f74-8490-816b8d6fb467</th>\n",
       "      <td>Common dogwood</td>\n",
       "      <td>Обычная коробчатка</td>\n",
       "    </tr>\n",
       "  </tbody>\n",
       "</table>\n",
       "<p>100 rows × 2 columns</p>\n",
       "</div>"
      ],
      "text/plain": [
       "                                             old_name              new_name\n",
       "5d58b28f-9b31-4b4a-975f-d2c065a39330     Meadow brome                  None\n",
       "9ec5a11c-5a42-4af6-9af5-47beb0c7f169      Easter-bell  Весенняя колокольчик\n",
       "aa126c55-99ed-429f-b1ea-7204f01a21ed  Field speedwell        Полынь полевая\n",
       "eeb6a4f7-fbd3-44a3-807b-56a5bde966b4    Umbrella pine                  None\n",
       "1da23ba2-886e-4cf8-b023-30e6ae63fe2e     White cockle        Белая коклюшка\n",
       "...                                               ...                   ...\n",
       "a62c8b52-8ac4-421c-8124-a3cfcf5a7dbb      Bitter dock      Лапчатка горькая\n",
       "674f956c-fee9-43cd-9f7a-a7a850b4e45f      Oxeye daisy               Льнянка\n",
       "cf76c942-6de2-40fe-83f3-a117143f272a        Male fern          Мужской ферн\n",
       "480990f0-9541-4fb9-a643-3b32b5fc2231        Felonherb                  None\n",
       "b673133b-0ad9-4f74-8490-816b8d6fb467   Common dogwood    Обычная коробчатка\n",
       "\n",
       "[100 rows x 2 columns]"
      ]
     },
     "execution_count": 17,
     "metadata": {},
     "output_type": "execute_result"
    }
   ],
   "source": [
    "df"
   ]
  },
  {
   "cell_type": "code",
   "execution_count": 18,
   "metadata": {},
   "outputs": [],
   "source": [
    "df.to_csv(\"flowers.csv\", index=True)"
   ]
  },
  {
   "cell_type": "code",
   "execution_count": null,
   "metadata": {},
   "outputs": [
    {
     "name": "stderr",
     "output_type": "stream",
     "text": [
      "/home/bevzd/workspace/pythonProjects/service-auth/services/migrations/src/seed/calendar/.venv/lib/python3.12/site-packages/yandex_cloud_ml_sdk/_auth.py:181: UserWarning: Sharing your personal OAuth token is not safe,\n",
      "and gives anyone access to your cloud infrastructure and data.\n",
      "\n",
      "Use YandexCloudCLIAuth for personal authentication,\n",
      "MetadataAuth when running your code inside Yandex Cloud infrastructure or\n",
      "APIKeyAuth for external-hosted automations.\n",
      "\n",
      "Please, follow our guide if your OAuth-token is leaked\n",
      "(https://yandex.cloud/en/docs/iam/operations/compromised-credentials)\n",
      "\n",
      "  warnings.warn(\n"
     ]
    },
    {
     "name": "stdout",
     "output_type": "stream",
     "text": [
      "Alternative(role='assistant', text='```\\n{\\n  \"status\": \"ok\",\\n  \"seasons\": {\\n    \"winter\": \"0 12 2,15 1,2,12 *\",\\n    \"autumn\": \"0 12 */7 3-5 *\",\\n    \"summer\": \"0 12 */2 6-8 *\",\\n    \"spring\": \"0 12 */7 9-11 *\"\\n   }\\n}\\n```', status=<AlternativeStatus.FINAL: 3>)\n"
     ]
    }
   ],
   "source": [
    "from yandex_cloud_ml_sdk import YCloudML\n",
    "\n",
    "PROMPT_EXAMPLE = \"\"\"\n",
    "Как часто поливать кактусы\n",
    "Единого мнения не существует. Это зависит от того, в каком состоянии находится растение, какая температура и влажность воздуха, как много света оно получает. \n",
    "\n",
    "Зима. В основном зимой кактус спит. А потому полив полностью прекращают с ноября. В то же время, если кактус зимует в теплом помещении и к тому же цветет, полив стоит продолжать, но делать это реже: достаточно одной процедуры раз в 2-3 недели.\n",
    "\n",
    "Весна. Понемногу давать растению воду начинают с весны, когда кактус просыпается. О том, что этот момент наступил, можно понять по зеленеющей макушке растения. Кроме того, на его верхушке появляются молодые колючки. Частота полива – раз в 12-14 дней.\n",
    "\n",
    "Лето. Максимальная частота полива, процедура нужна еженедельно. Если стоит слишком жаркая погода, увлажнять землю в горшке стоит каждые 5-6 дней.\n",
    "\n",
    "Осень. Регулярность постепенно сокращают перед зимовкой растения. Это особенно важно, если кактус будет находиться в прохладном помещении – при слишком частом осеннем поливе его ствол может деформироваться. \n",
    "\"\"\"\n",
    "\n",
    "prompt_text = \"\"\"\n",
    "Ты создаешь график полива на разные времена года, это Зима, Весна, Лето и Осень cron синтаксисом растений которые у тебя спрашивает пользователь. Возращай данные в указанном JSON с указанием точных дат\n",
    "Пример:\n",
    "\n",
    "---\n",
    "\n",
    "Какой график полива у растения: Кактус?\n",
    "\n",
    "Ответ:\n",
    "{\n",
    "  \"status\": \"ok\",\n",
    "  \"seasons\": {\n",
    "    \"winter\": \"0 12 2,15 1,2,12 *\",\n",
    "    \"autumn\": \"0 12 */7 3-5 *\",\n",
    "    \"summer\": \"0 12 */2 6-8 *\",\n",
    "    \"spring\": \"0 12 */7 9-11 *\"\n",
    "   }\n",
    "}\n",
    "\n",
    "---\n",
    "\"\"\"\n",
    "\n",
    "\n",
    "def change_in_place_response(seasons: dict):\n",
    "    cron = seasons[\"winter\"].split(\" \")\n",
    "    cron[-2] = \"1,2,12\"\n",
    "    seasons[\"winter\"] = \" \".join(cron)\n",
    "\n",
    "    cron = seasons[\"autumn\"].split(\" \")\n",
    "    cron[-2] = \"3-5\"\n",
    "    seasons[\"autumn\"] = \" \".join(cron)\n",
    "\n",
    "    cron = seasons[\"summer\"].split(\" \")\n",
    "    cron[-2] = \"6-8\"\n",
    "    seasons[\"summer\"] = \" \".join(cron)\n",
    "\n",
    "    cron = seasons[\"spring\"].split(\" \")\n",
    "    cron[-2] = \"9-11\"\n",
    "    seasons[\"spring\"] = \" \".join(cron)\n",
    "\n",
    "\n",
    "def main():\n",
    "    sdk = YCloudML(\n",
    "        folder_id=\"b1g4o9t4vgcbnkpunqeu\",\n",
    "        auth=\"y0_AgAAAAB23CtmAATuwQAAAAEUyAepAAAhD4Z1VbBNGLF5BQT5m8ACGp__wA\",\n",
    "    )\n",
    "\n",
    "    result = (\n",
    "        sdk.models.completions(\"yandexgpt\")\n",
    "        .configure(temperature=0.5)\n",
    "        .run(\n",
    "            [\n",
    "                {\n",
    "                    \"role\": \"system\",\n",
    "                    \"text\": prompt_text,\n",
    "                },\n",
    "                {\n",
    "                    \"role\": \"user\",\n",
    "                    \"text\": \"Какой график полива у растения: Алоэ Вера\",\n",
    "                },\n",
    "            ]\n",
    "        )\n",
    "    )\n",
    "    # if not result['ok']:\n",
    "    #     return\n",
    "\n",
    "    for alternative in result:\n",
    "        print(alternative)\n",
    "\n",
    "\n",
    "if __name__ == \"__main__\":\n",
    "    main()\n"
   ]
  },
  {
   "cell_type": "code",
   "execution_count": null,
   "metadata": {},
   "outputs": [],
   "source": []
  },
  {
   "cell_type": "code",
   "execution_count": null,
   "metadata": {},
   "outputs": [],
   "source": []
  }
 ],
 "metadata": {
  "kernelspec": {
   "display_name": ".venv",
   "language": "python",
   "name": "python3"
  },
  "language_info": {
   "codemirror_mode": {
    "name": "ipython",
    "version": 3
   },
   "file_extension": ".py",
   "mimetype": "text/x-python",
   "name": "python",
   "nbconvert_exporter": "python",
   "pygments_lexer": "ipython3",
   "version": "3.12.3"
  }
 },
 "nbformat": 4,
 "nbformat_minor": 2
}
