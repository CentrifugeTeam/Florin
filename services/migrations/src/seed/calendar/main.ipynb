{
 "cells": [
  {
   "cell_type": "code",
   "execution_count": null,
   "metadata": {},
   "outputs": [
    {
     "name": "stderr",
     "output_type": "stream",
     "text": [
      "/tmp/ipykernel_177178/2213911182.py:4: DeprecationWarning: datetime.datetime.utcnow() is deprecated and scheduled for removal in a future version. Use timezone-aware objects to represent datetimes in UTC: datetime.datetime.now(datetime.UTC).\n",
      "  start_date = datetime.utcnow()\n"
     ]
    },
    {
     "data": {
      "text/plain": [
       "datetime.datetime(2025, 2, 18, 15, 40, 6, 52903)"
      ]
     },
     "execution_count": 232,
     "metadata": {},
     "output_type": "execute_result"
    }
   ],
   "source": [
    "# \"status\": \"ok\",\\n  \"seasons\": {\\n    \"winter\": \"0 12 2,15 1,2,12 *\",\\n    \"autumn\": \"0 12 */7 3-5 *\",\\n    \"summer\": \"0 12 */2 6-8 *\",\\n    \"spring\": \"0 12 */7 9-11 *\"\n",
    "# need to specify by user when he or she last water the plant because I need datetime from this period"
   ]
  },
  {
   "cell_type": "code",
   "execution_count": 240,
   "metadata": {},
   "outputs": [
    {
     "name": "stderr",
     "output_type": "stream",
     "text": [
      "/home/bevzd/workspace/pythonProjects/service-auth/services/migrations/src/seed/calendar/.venv/lib/python3.12/site-packages/yandex_cloud_ml_sdk/_auth.py:181: UserWarning: Sharing your personal OAuth token is not safe,\n",
      "and gives anyone access to your cloud infrastructure and data.\n",
      "\n",
      "Use YandexCloudCLIAuth for personal authentication,\n",
      "MetadataAuth when running your code inside Yandex Cloud infrastructure or\n",
      "APIKeyAuth for external-hosted automations.\n",
      "\n",
      "Please, follow our guide if your OAuth-token is leaked\n",
      "(https://yandex.cloud/en/docs/iam/operations/compromised-credentials)\n",
      "\n",
      "  warnings.warn(\n"
     ]
    },
    {
     "name": "stdout",
     "output_type": "stream",
     "text": [
      "Alternative(role='assistant', text='```\\n{\\n  \"status\": \"ok\",\\n  \"seasons\": {\\n    \"winter\": \"0 12 2,15 1,2,12 *\",\\n    \"autumn\": \"0 12 */7 3-5 *\",\\n    \"summer\": \"0 12 */2 6-8 *\",\\n    \"spring\": \"0 12 */7 9-11 *\"\\n   }\\n}\\n```', status=<AlternativeStatus.FINAL: 3>)\n"
     ]
    }
   ],
   "source": [
    "from yandex_cloud_ml_sdk import YCloudML\n",
    "\n",
    "PROMPT_EXAMPLE = \"\"\"\n",
    "Как часто поливать кактусы\n",
    "Единого мнения не существует. Это зависит от того, в каком состоянии находится растение, какая температура и влажность воздуха, как много света оно получает. \n",
    "\n",
    "Зима. В основном зимой кактус спит. А потому полив полностью прекращают с ноября. В то же время, если кактус зимует в теплом помещении и к тому же цветет, полив стоит продолжать, но делать это реже: достаточно одной процедуры раз в 2-3 недели.\n",
    "\n",
    "Весна. Понемногу давать растению воду начинают с весны, когда кактус просыпается. О том, что этот момент наступил, можно понять по зеленеющей макушке растения. Кроме того, на его верхушке появляются молодые колючки. Частота полива – раз в 12-14 дней.\n",
    "\n",
    "Лето. Максимальная частота полива, процедура нужна еженедельно. Если стоит слишком жаркая погода, увлажнять землю в горшке стоит каждые 5-6 дней.\n",
    "\n",
    "Осень. Регулярность постепенно сокращают перед зимовкой растения. Это особенно важно, если кактус будет находиться в прохладном помещении – при слишком частом осеннем поливе его ствол может деформироваться. \n",
    "\"\"\"\n",
    "\n",
    "prompt_text = \"\"\"\n",
    "Ты создаешь график полива на разные времена года, это Зима, Весна, Лето и Осень cron синтаксисом растений которые у тебя спрашивает пользователь. Возращай данные в указанном JSON с указанием точных дат\n",
    "Пример:\n",
    "\n",
    "---\n",
    "\n",
    "Какой график полива у растения: Кактус?\n",
    "\n",
    "Ответ:\n",
    "{\n",
    "  \"status\": \"ok\",\n",
    "  \"seasons\": {\n",
    "    \"winter\": \"0 12 2,15 1,2,12 *\",\n",
    "    \"autumn\": \"0 12 */7 3-5 *\",\n",
    "    \"summer\": \"0 12 */2 6-8 *\",\n",
    "    \"spring\": \"0 12 */7 9-11 *\"\n",
    "   }\n",
    "}\n",
    "\n",
    "---\n",
    "\"\"\"\n",
    "\n",
    "def change_in_place_response(seasons: dict):\n",
    "    cron = seasons['winter'].split(' ')\n",
    "    cron[-2] = '1,2,12'\n",
    "    seasons['winter'] = \" \".join(cron)\n",
    "\n",
    "    cron = seasons['autumn'].split(' ')\n",
    "    cron[-2] = '3-5'\n",
    "    seasons['autumn'] = \" \".join(cron)\n",
    "\n",
    "    cron = seasons['summer'].split(' ')\n",
    "    cron[-2] = '6-8'\n",
    "    seasons['summer'] = \" \".join(cron)\n",
    "\n",
    "    cron = seasons['spring'].split(' ')\n",
    "    cron[-2] = '9-11'\n",
    "    seasons['spring'] = \" \".join(cron)\n",
    "    \n",
    "\n",
    "\n",
    "def main():\n",
    "    \n",
    "    sdk = YCloudML(\n",
    "        folder_id=\"b1g4o9t4vgcbnkpunqeu\",\n",
    "        auth=\"y0_AgAAAAB23CtmAATuwQAAAAEUyAepAAAhD4Z1VbBNGLF5BQT5m8ACGp__wA\",\n",
    "    )\n",
    "\n",
    "    result = (\n",
    "        sdk.models.completions(\"yandexgpt\").configure(temperature=0.5).run([\n",
    "    {\n",
    "        \"role\": \"system\",\n",
    "        \"text\": prompt_text,\n",
    "    },\n",
    "    {\n",
    "        \"role\": \"user\",\n",
    "        \"text\": 'Какой график полива у растения: Алоэ Вера',\n",
    "    },\n",
    "]\n",
    ")\n",
    "    \n",
    "    )\n",
    "    # if not result['ok']:\n",
    "    #     return\n",
    "\n",
    "    for alternative in result:\n",
    "        print(alternative)\n",
    "\n",
    "\n",
    "if __name__ == \"__main__\":\n",
    "    main()\n",
    "\n"
   ]
  },
  {
   "cell_type": "code",
   "execution_count": null,
   "metadata": {},
   "outputs": [],
   "source": []
  },
  {
   "cell_type": "code",
   "execution_count": null,
   "metadata": {},
   "outputs": [],
   "source": []
  }
 ],
 "metadata": {
  "kernelspec": {
   "display_name": ".venv",
   "language": "python",
   "name": "python3"
  },
  "language_info": {
   "codemirror_mode": {
    "name": "ipython",
    "version": 3
   },
   "file_extension": ".py",
   "mimetype": "text/x-python",
   "name": "python",
   "nbconvert_exporter": "python",
   "pygments_lexer": "ipython3",
   "version": "3.12.3"
  }
 },
 "nbformat": 4,
 "nbformat_minor": 2
}
